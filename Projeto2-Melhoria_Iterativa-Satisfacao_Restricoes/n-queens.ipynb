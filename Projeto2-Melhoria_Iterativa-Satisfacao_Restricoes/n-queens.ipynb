{
 "cells": [
  {
   "cell_type": "markdown",
   "metadata": {},
   "source": [
    "# Parte 1: N-Rainhas\n",
    "---"
   ]
  },
  {
   "cell_type": "markdown",
   "metadata": {},
   "source": [
    "## Parâmetros editáveis"
   ]
  },
  {
   "cell_type": "code",
   "execution_count": 30,
   "metadata": {},
   "outputs": [],
   "source": [
    "# Arquivos de jogos que serão processados\n",
    "# Devem existir 3 arquivos em game_files\n",
    "game_files = [\"games/game10.txt\", \"games/game20.txt\", \"games/game25.txt\"]\n",
    "\n",
    "# Tamanho dos quadrados do tabuleiro (visual)\n",
    "w, h = 30, 30\n",
    "\n",
    "# Espaçamento entre os tabuleiros (visual)\n",
    "hspace, vspace = 40, 40"
   ]
  },
  {
   "cell_type": "markdown",
   "metadata": {},
   "source": [
    "Antes de executar este caderno, pode ser necessário instalar previamente as dependências em seu sistema. Isso pode ser feito com os seguintes comandos:\n",
    "```bash\n",
    "pip install --user numpy\n",
    "```"
   ]
  },
  {
   "source": [
    "## Dependencias\n"
   ],
   "cell_type": "markdown",
   "metadata": {}
  },
  {
   "cell_type": "code",
   "execution_count": 31,
   "metadata": {},
   "outputs": [],
   "source": [
    "import numpy as np\n",
    "import random\n",
    "import time\n",
    "from copy import copy, deepcopy\n",
    "from PIL import Image, ImageDraw, ImageFont"
   ]
  },
  {
   "cell_type": "markdown",
   "metadata": {},
   "source": [
    "## Importando os dados"
   ]
  },
  {
   "cell_type": "code",
   "execution_count": 32,
   "metadata": {
    "tags": []
   },
   "outputs": [],
   "source": [
    "games = []\n",
    "\n",
    "for game_file in game_files:\n",
    "    game = np.loadtxt(game_file, dtype='str', delimiter=' ')\n",
    "    games.append(game)"
   ]
  },
  {
   "source": [
    "## Funções para desenhar o tabuleiro na tela"
   ],
   "cell_type": "markdown",
   "metadata": {}
  },
  {
   "cell_type": "code",
   "execution_count": 35,
   "metadata": {},
   "outputs": [],
   "source": [
    "\n",
    "# Funções para desenhar os shapes\n",
    "def draw_queen(pos, q, d):\n",
    "    draw_wall(pos, d)\n",
    "    pos = (pos[0] + w/2 - 1, pos[1] + h/2 - 1)\n",
    "    d.text(pos, str(q), fill=\"white\")\n",
    "    \n",
    "def draw_non_illuminated(pos, d):\n",
    "    shape = [(pos[0], pos[1]), (pos[0] + w, pos[1] + h)]\n",
    "    d.rectangle(shape, fill =\"grey\", outline =\"black\")\n",
    "\n",
    "def draw_wall(pos, d):\n",
    "    shape = [(pos[0], pos[1]), (pos[0] + w, pos[1] + h)]\n",
    "    d.rectangle(shape, fill =\"black\", outline =\"black\")\n",
    "    \n",
    "# Funções para mover o cursor de desenho\n",
    "def step(pos, idx_pos):\n",
    "    pos = (pos[0] + w, pos[1])\n",
    "    idx_pos = (idx_pos[0] + 1, idx_pos[1])\n",
    "    return pos, idx_pos\n",
    "    \n",
    "def new_line(pos, idx_pos):\n",
    "    pos = (0, pos[1] + h)\n",
    "    idx_pos = (0, idx_pos[1] + 1)\n",
    "    return pos, idx_pos\n",
    "\n",
    "# Função para desenhar o tabuleiro completo\n",
    "def draw_state(state, x):\n",
    "    # Desenha o outlier do tabuleiro\n",
    "    img = Image.new('RGB', (x * w + 2 + hspace, x * h + 2 + vspace), color = \"white\")\n",
    "    d = ImageDraw.Draw(img)\n",
    "    # Desenhar\n",
    "    pos = (0, 0)\n",
    "    idx_pos = (0, 0)\n",
    "    for line in state:\n",
    "        for element in line:\n",
    "            if element == '-':\n",
    "                draw_non_illuminated(pos, d)\n",
    "            else:\n",
    "                draw_queen(pos, 'Q', d)\n",
    "            pos, idx_pos = step(pos, idx_pos)\n",
    "        pos, idx_pos = new_line(pos, idx_pos)\n",
    "    return img"
   ]
  },
  {
   "cell_type": "markdown",
   "metadata": {},
   "source": [
    "## Matriz auxiliar"
   ]
  },
  {
   "cell_type": "code",
   "execution_count": 36,
   "metadata": {
    "tags": []
   },
   "outputs": [],
   "source": [
    "def generate_aux_matrix(game):\n",
    "    matrix = {}\n",
    "    for i in range(0, len(game)):\n",
    "        for j in range(0,len(game)):\n",
    "            l = list()\n",
    "            ## Add all line cells\n",
    "            for k in range(0,len(game)):\n",
    "                if k != j:\n",
    "                    l.append((i, k))\n",
    "            ## Add all diagonal\n",
    "            for k in range(0, len(game)):\n",
    "                if k != j:\n",
    "                    dist = abs(k - j)\n",
    "                    if i + dist < len(game):\n",
    "                        l.append((i + dist, k))\n",
    "                    if i - dist >= 0:\n",
    "                        l.append((i - dist, k))\n",
    "            matrix[(i, j)] = l\n",
    "    return matrix"
   ]
  },
  {
   "cell_type": "code",
   "execution_count": 37,
   "metadata": {},
   "outputs": [],
   "source": [
    "class State():\n",
    "    def __init__(self):\n",
    "        self.queens = set()\n",
    "        self.score = 2000\n",
    "\n",
    "## Returns a set of positions. Each position represents a queen\n",
    "def generate_initial_state(game):\n",
    "    game_size = len(game)\n",
    "    state = State()\n",
    "    for j in range(0, game_size):\n",
    "        i = random.randrange(0, game_size)\n",
    "        state.queens.add((i, j))\n",
    "    \n",
    "    # print(state.queens)\n",
    "    evaluate_score(state)\n",
    "    return state\n",
    "\n",
    "## Evaluate score for a set of queens.\n",
    "def evaluate_score(state):\n",
    "    state.score = 0\n",
    "    for queen in state.queens:\n",
    "        for neighbor_cell in matrix[queen]:\n",
    "            if neighbor_cell in  state.queens:\n",
    "                state.score += 1\n",
    "\n",
    "## Generate next state and calculate its score. One queen is removed and other one\n",
    "## is added.\n",
    "def next_state_given_action(current_state, to_be_removed_queen, to_be_added_queen):\n",
    "    state = deepcopy(current_state)\n",
    "    queen = to_be_removed_queen\n",
    "    new_queen = to_be_added_queen\n",
    "    \n",
    "    ## Remove queen\n",
    "    state.queens.remove(queen)\n",
    "\n",
    "    ## Update score\n",
    "    for neighbor_cell in matrix[queen]:\n",
    "        if neighbor_cell in state.queens:\n",
    "            state.score -= 2\n",
    "    \n",
    "    ## Add new queen\n",
    "    state.queens.add(new_queen)\n",
    "\n",
    "    ## Update score\n",
    "    for neighbor_cell in matrix[new_queen]:\n",
    "        if neighbor_cell in state.queens:\n",
    "            state.score += 2\n",
    "\n",
    "    return state\n",
    "\n",
    "## Generate next state, the one with the best score possible given\n",
    "## all queen movement possibilities.\n",
    "def next_state(current_state):\n",
    "    # All possible next actions for a given queen\n",
    "    possibleActions = {}\n",
    "    for queen in current_state.queens:\n",
    "        l = list()\n",
    "        for i in range(0, len(game)):\n",
    "            if i != queen[0]:\n",
    "                l.append((i, queen[1]))\n",
    "        possibleActions[queen] = l\n",
    "    \n",
    "    ## Find best score state given all actions for all queens\n",
    "    next_state = State()\n",
    "    for queen in current_state.queens:\n",
    "        for action in possibleActions[queen]:\n",
    "            next_possible_state = next_state_given_action(current_state, queen, action)\n",
    "            if next_possible_state.score < next_state.score:\n",
    "                next_state  = next_possible_state\n",
    "    return next_state\n",
    "\n",
    "\n",
    "## Generate simple representation of answer board.\n",
    "def build_answer(state):\n",
    "    board = list()\n",
    "    board = copy(game)\n",
    "    for queen in state.queens:\n",
    "        board[queen] = 'Q'\n",
    "    #print(board, state.score)\n",
    "    return board\n"
   ]
  },
  {
   "source": [
    "## Hill Climbing\n"
   ],
   "cell_type": "markdown",
   "metadata": {}
  },
  {
   "cell_type": "code",
   "execution_count": 38,
   "metadata": {
    "tags": []
   },
   "outputs": [],
   "source": [
    "solutions = []\n",
    "for game in games:\n",
    "    start = time.time()\n",
    "    matrix = generate_aux_matrix(game)\n",
    "    while True:\n",
    "        current = generate_initial_state(game)\n",
    "        while True:\n",
    "            nextState = next_state(current)\n",
    "            # build_answer(nextState)\n",
    "            if nextState.score == 0:\n",
    "                break\n",
    "            if nextState.score < current.score:\n",
    "                current = nextState\n",
    "            else:\n",
    "                break\n",
    "        if nextState.score == 0:\n",
    "            end = time.time()\n",
    "            break\n",
    "    solutions.append((build_answer(nextState), end-start, len(game)))"
   ]
  },
  {
   "source": [
    "## Visualização das soluções"
   ],
   "cell_type": "markdown",
   "metadata": {}
  },
  {
   "cell_type": "code",
   "execution_count": 39,
   "metadata": {
    "tags": []
   },
   "outputs": [
    {
     "output_type": "stream",
     "name": "stdout",
     "text": [
      "Solution for 10 x 10 board\nTime taken:  0.4639167785644531 s\n"
     ]
    },
    {
     "output_type": "execute_result",
     "data": {
      "text/plain": [
       "<PIL.Image.Image image mode=RGB size=342x342 at 0x7FA636F15BA8>"
      ],
      "image/png": "[encoded data removed]"
     },
     "metadata": {},
     "execution_count": 39
    }
   ],
   "source": [
    "# Monta as imagens sem loop. \n",
    "print(\"Solution for\", solutions[0][2], \"x\", solutions[0][2], \"board\")\n",
    "print(\"Time taken: \", solutions[0][1], \"s\")\n",
    "Image.fromarray(np.asarray(draw_state(solutions[0][0], solutions[0][2])))\n",
    "        "
   ]
  },
  {
   "cell_type": "code",
   "execution_count": 40,
   "metadata": {},
   "outputs": [
    {
     "output_type": "stream",
     "name": "stdout",
     "text": [
      "Solution for 20 x 20 board\nTime taken:  17.479726314544678 s\n"
     ]
    },
    {
     "output_type": "execute_result",
     "data": {
      "text/plain": [
       "<PIL.Image.Image image mode=RGB size=642x642 at 0x7FA637464BE0>"
      ],
      "image/png": "[encoded data removed]"
     },
     "metadata": {},
     "execution_count": 40
    }
   ],
   "source": [
    "print(\"Solution for\", solutions[1][2], \"x\", solutions[1][2], \"board\")\n",
    "print(\"Time taken: \", solutions[1][1], \"s\")\n",
    "Image.fromarray(np.asarray(draw_state(solutions[1][0], solutions[1][2])))"
   ]
  },
  {
   "cell_type": "code",
   "execution_count": 41,
   "metadata": {},
   "outputs": [
    {
     "output_type": "stream",
     "name": "stdout",
     "text": [
      "Solution for 25 x 25 board\nTime taken:  19.803889751434326 s\n"
     ]
    },
    {
     "output_type": "execute_result",
     "data": {
      "text/plain": [
       "<PIL.Image.Image image mode=RGB size=792x792 at 0x7FA637464780>"
      ],
      "image/png": "[encoded data removed]"
     },
     "metadata": {},
     "execution_count": 41
    }
   ],
   "source": [
    "print(\"Solution for\", solutions[2][2], \"x\", solutions[2][2], \"board\")\n",
    "print(\"Time taken: \", solutions[2][1], \"s\")\n",
    "Image.fromarray(np.asarray(draw_state(solutions[2][0], solutions[2][2])))"
   ]
  },
  {
   "cell_type": "code",
   "execution_count": null,
   "metadata": {},
   "outputs": [],
   "source": []
  }
 ],
 "metadata": {
  "kernelspec": {
   "display_name": "Python 3",
   "language": "python",
   "name": "python3"
  },
  "language_info": {
   "codemirror_mode": {
    "name": "ipython",
    "version": 3
   },
   "file_extension": ".py",
   "mimetype": "text/x-python",
   "name": "python",
   "nbconvert_exporter": "python",
   "pygments_lexer": "ipython3",
   "version": "3.6.9-final"
  }
 },
 "nbformat": 4,
 "nbformat_minor": 4
}