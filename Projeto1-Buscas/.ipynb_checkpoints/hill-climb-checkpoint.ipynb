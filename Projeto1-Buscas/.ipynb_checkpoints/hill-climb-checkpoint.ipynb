{
 "cells": [
  {
   "cell_type": "markdown",
   "metadata": {},
   "source": [
    "# Parte 2: Light-Up (Akari)\n",
    "---"
   ]
  },
  {
   "cell_type": "markdown",
   "metadata": {},
   "source": [
    "## Dependências"
   ]
  },
  {
   "cell_type": "code",
   "execution_count": 1,
   "metadata": {},
   "outputs": [],
   "source": [
    "import numpy as np\n",
    "import random\n",
    "import time\n",
    "from copy import copy, deepcopy\n",
    "from PIL import Image, ImageDraw, ImageFont"
   ]
  },
  {
   "cell_type": "markdown",
   "metadata": {},
   "source": [
    "## Importando os dados"
   ]
  },
  {
   "cell_type": "code",
   "execution_count": 2,
   "metadata": {
    "tags": []
   },
   "outputs": [
    {
     "name": "stdout",
     "output_type": "stream",
     "text": [
      "[['-' 'X' '-' 'X' '-' '-' '-']\n",
      " ['-' '-' '-' '-' '-' '-' '3']\n",
      " ['-' '-' '-' '-' '-' '-' '-']\n",
      " ['0' '-' '-' '1' '-' '-' 'X']\n",
      " ['-' '-' '-' '-' '-' '-' '-']\n",
      " ['1' '-' '-' '-' '-' '-' '-']\n",
      " ['-' '-' '-' '2' '-' '1' '-']]\n"
     ]
    }
   ],
   "source": [
    "game = np.loadtxt(\"./games/game3.txt\", dtype='str', delimiter=' ')\n",
    "print(game)"
   ]
  },
  {
   "cell_type": "markdown",
   "metadata": {},
   "source": [
    "## Funções para desenhar o tabuleiro na tela"
   ]
  },
  {
   "cell_type": "code",
   "execution_count": 3,
   "metadata": {},
   "outputs": [],
   "source": [
    "# Tamanho dos quadrados do tabuleiro (editável)\n",
    "w, h = 30, 30\n",
    "\n",
    "# Dimensão do tabuleiro\n",
    "x, y = len(game[0]), len(game)\n",
    "\n",
    "# Desenha o outlier do tabuleiro\n",
    "img = Image.new('RGB', (x * w + 2, y * h + 2), color = (73, 109, 137))\n",
    "d = ImageDraw.Draw(img)\n",
    "\n",
    "# Funções para desenhar os shapes\n",
    "def draw_lamp(pos):\n",
    "    shape = [(pos[0], pos[1]), (pos[0] + w, pos[1] + h)]\n",
    "    d.rectangle(shape, fill =\"#ffff33\", outline =\"black\")\n",
    "    d.ellipse(shape, fill = 'white', outline ='black')\n",
    "    \n",
    "def draw_wall(pos):\n",
    "    shape = [(pos[0], pos[1]), (pos[0] + w, pos[1] + h)]\n",
    "    d.rectangle(shape, fill =\"black\", outline =\"black\")\n",
    "    \n",
    "def draw_numbered_wall(pos, num):\n",
    "    draw_wall(pos)\n",
    "    pos = (pos[0] + w/2 - 1, pos[1] + h/2 - 1)\n",
    "    d.text(pos, str(num), fill=\"white\")\n",
    "    \n",
    "def draw_illuminated(pos):\n",
    "    shape = [(pos[0], pos[1]), (pos[0] + w, pos[1] + h)]\n",
    "    d.rectangle(shape, fill =\"yellow\", outline =\"black\")\n",
    "    \n",
    "def draw_non_illuminated(pos):\n",
    "    shape = [(pos[0], pos[1]), (pos[0] + w, pos[1] + h)]\n",
    "    d.rectangle(shape, fill =\"grey\", outline =\"black\")\n",
    "    \n",
    "# Funções para mover o cursor de desenho\n",
    "def step(pos, idx_pos):\n",
    "    pos = (pos[0] + w, pos[1])\n",
    "    idx_pos = (idx_pos[0] + 1, idx_pos[1])\n",
    "    return pos, idx_pos\n",
    "    \n",
    "def new_line(pos, idx_pos):\n",
    "    pos = (0, pos[1] + h)\n",
    "    idx_pos = (0, idx_pos[1] + 1)\n",
    "    return pos, idx_pos\n",
    "\n",
    "# Função para desenhar o tabuleiro completo\n",
    "def draw_state(state):\n",
    "    # Preprocessar iluminação\n",
    "    dark_spots = state.getDarkSpots()\n",
    "    \n",
    "    state = state.state\n",
    "    # Desenhar\n",
    "    pos = (0, 0)\n",
    "    idx_pos = (0, 0)\n",
    "    for line in state:\n",
    "        for element in line:\n",
    "            if element == '-':\n",
    "                if (idx_pos[1], idx_pos[0]) in dark_spots:\n",
    "                    draw_non_illuminated(pos)\n",
    "                else:\n",
    "                    draw_illuminated(pos)\n",
    "            elif element == 'L':\n",
    "                draw_lamp(pos)\n",
    "            elif element == 'X':\n",
    "                draw_wall(pos)\n",
    "            else:\n",
    "                draw_numbered_wall(pos, int(element))\n",
    "            pos, idx_pos = step(pos, idx_pos)\n",
    "        pos, idx_pos = new_line(pos, idx_pos)\n",
    "    return img"
   ]
  },
  {
   "cell_type": "markdown",
   "metadata": {},
   "source": [
    "## Pré-Game"
   ]
  },
  {
   "cell_type": "code",
   "execution_count": 4,
   "metadata": {},
   "outputs": [
    {
     "name": "stderr",
     "output_type": "stream",
     "text": [
      "<>:46: SyntaxWarning: \"is\" with a literal. Did you mean \"==\"?\n",
      "<>:46: SyntaxWarning: \"is\" with a literal. Did you mean \"==\"?\n",
      "<ipython-input-4-b4e0866e12c2>:46: SyntaxWarning: \"is\" with a literal. Did you mean \"==\"?\n",
      "  if numb.n is 0:\n"
     ]
    }
   ],
   "source": [
    "class Number():\n",
    "    def __init__(self, pos, number):\n",
    "        self.pos = pos\n",
    "        self.n = number\n",
    "\n",
    "class State():\n",
    "    def __init__(self, game):\n",
    "        self.state = copy(game)\n",
    "        self.score = 0\n",
    "        self.lamps = list()\n",
    "        self.criticalLamps = list()\n",
    "        self.numbers = list()\n",
    "        self.enemyLamps = 0\n",
    "        self.darkSpots = 0\n",
    "        self.size = len(game)\n",
    "\n",
    "    def set_initial_lamps(self):\n",
    "        ## Set lamps initial positions\n",
    "        for j in range (self.size):\n",
    "            freePositions = 0\n",
    "            for i in range (self.size): \n",
    "                if self.state[i][j] == '-': \n",
    "                    freePositions += 1\n",
    "                else:\n",
    "                    if freePositions > 0:\n",
    "                        ## Set lamp on random position\n",
    "                        l = random.randrange(i - freePositions, i)\n",
    "                        self.lamps.append((l, j))\n",
    "                        freePositions = 0\n",
    "                    \n",
    "                    ## If it is a number\n",
    "                    if self.state[i][j] != '-' and self.state[i][j] != 'X':\n",
    "                        self.numbers.append( Number( (i, j), int( self.state[i][j] ) ) )\n",
    "\n",
    "            if freePositions > 0:\n",
    "                l = random.randrange(self.size - freePositions, self.size)\n",
    "                self.lamps.append((l, j))\n",
    "        \n",
    "        ## Change State\n",
    "        for l in self.lamps:\n",
    "            self.state[l[0]][l[1]] = 'L'\n",
    "\n",
    "        ## Critical Lamps\n",
    "        direction = [(1, 0), (-1, 0), (0, 1), (0, -1)]\n",
    "        for numb in self.numbers:\n",
    "            if numb.n is 0:\n",
    "                i, j = numb.pos\n",
    "                for di in direction:\n",
    "                    ii = i + di[0]\n",
    "                    jj = j + di[1]\n",
    "                    if ii > -1 and ii < self.size and jj > -1 and jj < self.size and self.state[ii][jj] == 'L':\n",
    "                        self.criticalLamps.append((ii, jj))\n",
    "\n",
    "        self.evaluateScore()\n",
    "    \n",
    "    def evaluateScore(self):\n",
    "        # Lamps that see each other \n",
    "        enemyLamps = 0\n",
    "        for i in range (self.size):\n",
    "            lamps = 0\n",
    "            for j in range (self.size):\n",
    "                ## lamp found\n",
    "                if self.state[i][j] == 'L': \n",
    "                    if lamps != 0:\n",
    "                        enemyLamps += 1\n",
    "                    lamps = 1\n",
    "                ## wall found\n",
    "                elif self.state[i][j] != 'L' and self.state[i][j] != '-':\n",
    "                     lamps = 0\n",
    "        \n",
    "        # Not illuminated spots\n",
    "        darkSpots = set()\n",
    "        for i in range(self.size):\n",
    "            for j in range(self.size):\n",
    "                if self.state[i][j] == '-':\n",
    "                    darkSpots.add((i, j))\n",
    "\n",
    "        for lamp in self.lamps:\n",
    "            # Search in column\n",
    "            for i in range(lamp[0] + 1, self.size):\n",
    "                if self.state[i][lamp[1]] == '-':\n",
    "                    if (i, lamp[1]) in darkSpots:\n",
    "                        darkSpots.remove((i, lamp[1]))\n",
    "                else:\n",
    "                    break\n",
    "\n",
    "            for i in range(lamp[0] - 1, -1, -1):\n",
    "                if self.state[i][lamp[1]] == '-':\n",
    "                    if (i, lamp[1]) in darkSpots:\n",
    "                        darkSpots.remove((i, lamp[1]))\n",
    "                else:\n",
    "                    break\n",
    "            \n",
    "            # Search in line\n",
    "            for j in range(lamp[1] + 1, self.size):\n",
    "                if self.state[lamp[0]][j] == '-':\n",
    "                    if (lamp[0], j) in darkSpots:\n",
    "                        darkSpots.remove((lamp[0], j))\n",
    "                else:\n",
    "                    break\n",
    "\n",
    "            for j in range(lamp[1] - 1, -1, -1):\n",
    "                if self.state[lamp[0]][j] == '-':\n",
    "                    if (lamp[0], j) in darkSpots:\n",
    "                        darkSpots.remove((lamp[0], j))\n",
    "                else:\n",
    "                    break\n",
    "        \n",
    "        # Critical Lamps, neighbours of number cells.\n",
    "        restrictions = 0\n",
    "        direction = [(1, 0), (-1, 0), (0, 1), (0, -1)]\n",
    "        for numb in self.numbers:\n",
    "            i, j = numb.pos\n",
    "            neighbours = 0\n",
    "            for di in direction:\n",
    "                ii = i + di[0]\n",
    "                jj = j + di[1]\n",
    "                if ii > -1 and ii < self.size and jj > -1 and jj < self.size and self.state[ii][jj] == 'L':\n",
    "                    neighbours += 1\n",
    "                    if numb.n == 0 and (ii, jj) not in self.criticalLamps:\n",
    "                        self.criticalLamps.append((ii, jj))\n",
    "            restrictions += abs(neighbours - numb.n)\n",
    "        \n",
    "        self.score = restrictions*10 + len(darkSpots)*1 + enemyLamps*5\n",
    "        \n",
    "    def getDarkSpots(self):\n",
    "        # Not illuminated spots\n",
    "        darkSpots = set()\n",
    "        for i in range(self.size):\n",
    "            for j in range(self.size):\n",
    "                if self.state[i][j] == '-':\n",
    "                    darkSpots.add((i, j))\n",
    "\n",
    "        for lamp in self.lamps:\n",
    "            # Search in column\n",
    "            for i in range(lamp[0] + 1, self.size):\n",
    "                if self.state[i][lamp[1]] == '-':\n",
    "                    if (i, lamp[1]) in darkSpots:\n",
    "                        darkSpots.remove((i, lamp[1]))\n",
    "                else:\n",
    "                    break\n",
    "\n",
    "            for i in range(lamp[0] - 1, -1, -1):\n",
    "                if self.state[i][lamp[1]] == '-':\n",
    "                    if (i, lamp[1]) in darkSpots:\n",
    "                        darkSpots.remove((i, lamp[1]))\n",
    "                else:\n",
    "                    break\n",
    "            \n",
    "            # Search in line\n",
    "            for j in range(lamp[1] + 1, self.size):\n",
    "                if self.state[lamp[0]][j] == '-':\n",
    "                    if (lamp[0], j) in darkSpots:\n",
    "                        darkSpots.remove((lamp[0], j))\n",
    "                else:\n",
    "                    break\n",
    "\n",
    "            for j in range(lamp[1] - 1, -1, -1):\n",
    "                if self.state[lamp[0]][j] == '-':\n",
    "                    if (lamp[0], j) in darkSpots:\n",
    "                        darkSpots.remove((lamp[0], j))\n",
    "                else:\n",
    "                    break\n",
    "        return darkSpots"
   ]
  },
  {
   "cell_type": "code",
   "execution_count": 5,
   "metadata": {
    "tags": []
   },
   "outputs": [],
   "source": [
    "def generateNextState(current): \n",
    "    nextState = deepcopy(current)\n",
    "\n",
    "    # Select a lamp\n",
    "    if len(nextState.criticalLamps) != 0:\n",
    "        l = random.choice(nextState.criticalLamps)\n",
    "    else:\n",
    "        l = random.choice(nextState.lamps)\n",
    "    ## More likely to move a Lamp\n",
    "    action = random.randrange(0, 5) \n",
    "\n",
    "    ## Remove Lamp\n",
    "    if action == 0:\n",
    "        nextState.lamps.remove(l)\n",
    "        if l in nextState.criticalLamps:\n",
    "            nextState.criticalLamps.remove(l)\n",
    "        nextState.state[l[0]][l[1]] = '-'\n",
    "        nextState.evaluateScore()\n",
    "    ## Move Lamp\n",
    "    else:\n",
    "        validPositions = list()\n",
    "        for i in range(l[0] + 1, nextState.size):\n",
    "            if nextState.state[i][l[1]] == '-':\n",
    "                validPositions.append((i, l[1]))\n",
    "            else:\n",
    "                break\n",
    "\n",
    "        for i in range(l[0] - 1, -1, -1):\n",
    "            if nextState.state[i][l[1]] == '-':\n",
    "                validPositions.append((i, l[1]))\n",
    "            else:\n",
    "                break\n",
    "\n",
    "        if(len(validPositions) != 0):\n",
    "            newLamp = random.choice(validPositions)\n",
    "            nextState.lamps.remove(l)\n",
    "            if l in nextState.criticalLamps:\n",
    "                nextState.criticalLamps.remove(l)\n",
    "            nextState.state[l[0]][l[1]] = '-'\n",
    "            nextState.lamps.append(newLamp)\n",
    "            nextState.state[newLamp[0]][newLamp[1]] = 'L'\n",
    "            nextState.evaluateScore()\n",
    "\n",
    "    return nextState"
   ]
  },
  {
   "cell_type": "markdown",
   "metadata": {},
   "source": [
    "### HillClimbing"
   ]
  },
  {
   "cell_type": "code",
   "execution_count": 6,
   "metadata": {
    "tags": [
     "outputPrepend"
    ]
   },
   "outputs": [],
   "source": [
    "initial = State(game)\n",
    "count = 1\n",
    "while True:\n",
    "    current = State(game)\n",
    "    current.set_initial_lamps()\n",
    "    plato = 150\n",
    "    #print(\"Inicio: score:\", current.score)\n",
    "    #print(current.state)\n",
    "    \n",
    "\n",
    "    while True:\n",
    "        nextState = generateNextState(current)\n",
    "        # DEBUG: Salvar imagens das etapas intermediárias\n",
    "        # draw_state(nextState).save('images/debug-step-' + str(count) + '.png')\n",
    "        count = count + 1\n",
    "        if nextState.score == 0:\n",
    "            break\n",
    "\n",
    "        if nextState.score < current.score:\n",
    "            current = nextState\n",
    "            #print(\"Melhorou, score:\", current.score)\n",
    "            # print(current.state)\n",
    "            plato = 150\n",
    "        else:\n",
    "            plato -= 1\n",
    "            if plato == 0:\n",
    "                break\n",
    "\n",
    "    #print(\"Melhorou, score:\", current.score)\n",
    "    if nextState.score == 0:\n",
    "        #print(nextState.state)\n",
    "        break"
   ]
  },
  {
   "cell_type": "markdown",
   "metadata": {},
   "source": [
    "## Visualização do Jogo"
   ]
  },
  {
   "cell_type": "code",
   "execution_count": 7,
   "metadata": {},
   "outputs": [
    {
     "data": {
      "image/png": "[encoded data removed]",
      "text/plain": [
       "<PIL.Image.Image image mode=RGB size=212x212 at 0x7FC184184E50>"
      ]
     },
     "execution_count": 7,
     "metadata": {},
     "output_type": "execute_result"
    }
   ],
   "source": [
    "# Estado inicial do jogo\n",
    "initial = State(game)\n",
    "draw_state(initial)"
   ]
  },
  {
   "cell_type": "code",
   "execution_count": 8,
   "metadata": {},
   "outputs": [
    {
     "data": {
      "image/png": "[encoded data removed]",
      "text/plain": [
       "<PIL.Image.Image image mode=RGB size=212x212 at 0x7FC184184E50>"
      ]
     },
     "execution_count": 8,
     "metadata": {},
     "output_type": "execute_result"
    }
   ],
   "source": [
    "# Estado final do processamento\n",
    "draw_state(nextState)"
   ]
  }
 ],
 "metadata": {
  "kernelspec": {
   "display_name": "Python 3",
   "language": "python",
   "name": "python3"
  },
  "language_info": {
   "codemirror_mode": {
    "name": "ipython",
    "version": 3
   },
   "file_extension": ".py",
   "mimetype": "text/x-python",
   "name": "python",
   "nbconvert_exporter": "python",
   "pygments_lexer": "ipython3",
   "version": "3.8.5"
  }
 },
 "nbformat": 4,
 "nbformat_minor": 4
}
