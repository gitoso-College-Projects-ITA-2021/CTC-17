{
 "cells": [
  {
   "cell_type": "markdown",
   "metadata": {},
   "source": [
    "# (CTC-17) Projeto de Buscas\n",
    "---"
   ]
  },
  {
   "cell_type": "markdown",
   "metadata": {},
   "source": [
    "## Dependências"
   ]
  },
  {
   "cell_type": "code",
   "execution_count": 4,
   "metadata": {},
   "outputs": [],
   "source": [
    "import pandas as pd\n",
    "import heapq as heap\n",
    "from math import sqrt\n",
    "from tqdm import tqdm"
   ]
  },
  {
   "cell_type": "markdown",
   "metadata": {},
   "source": [
    "## Importando os dados"
   ]
  },
  {
   "cell_type": "code",
   "execution_count": 6,
   "metadata": {},
   "outputs": [
    {
     "output_type": "execute_result",
     "data": {
      "text/plain": "      id            city        lat         lng\n0      1        Adelaide -34.928661  138.598633\n1      2  Adelaide River -13.239430  131.107330\n2      3          Albany -35.003101  117.865952\n3      4          Albury -36.074823  146.924006\n4      5   Alice Springs -23.697479  133.883621\n..   ...             ...        ...         ...\n214  215         Woomera -31.199810  136.832581\n215  216           Yamba -29.435450  153.360306\n216  217         Yeppoon -23.126829  150.744064\n217  218           Young -34.313499  148.301071\n218  219          Yulara -25.245291  130.980545\n\n[219 rows x 4 columns]",
      "text/html": "<div>\n<style scoped>\n    .dataframe tbody tr th:only-of-type {\n        vertical-align: middle;\n    }\n\n    .dataframe tbody tr th {\n        vertical-align: top;\n    }\n\n    .dataframe thead th {\n        text-align: right;\n    }\n</style>\n<table border=\"1\" class=\"dataframe\">\n  <thead>\n    <tr style=\"text-align: right;\">\n      <th></th>\n      <th>id</th>\n      <th>city</th>\n      <th>lat</th>\n      <th>lng</th>\n    </tr>\n  </thead>\n  <tbody>\n    <tr>\n      <th>0</th>\n      <td>1</td>\n      <td>Adelaide</td>\n      <td>-34.928661</td>\n      <td>138.598633</td>\n    </tr>\n    <tr>\n      <th>1</th>\n      <td>2</td>\n      <td>Adelaide River</td>\n      <td>-13.239430</td>\n      <td>131.107330</td>\n    </tr>\n    <tr>\n      <th>2</th>\n      <td>3</td>\n      <td>Albany</td>\n      <td>-35.003101</td>\n      <td>117.865952</td>\n    </tr>\n    <tr>\n      <th>3</th>\n      <td>4</td>\n      <td>Albury</td>\n      <td>-36.074823</td>\n      <td>146.924006</td>\n    </tr>\n    <tr>\n      <th>4</th>\n      <td>5</td>\n      <td>Alice Springs</td>\n      <td>-23.697479</td>\n      <td>133.883621</td>\n    </tr>\n    <tr>\n      <th>...</th>\n      <td>...</td>\n      <td>...</td>\n      <td>...</td>\n      <td>...</td>\n    </tr>\n    <tr>\n      <th>214</th>\n      <td>215</td>\n      <td>Woomera</td>\n      <td>-31.199810</td>\n      <td>136.832581</td>\n    </tr>\n    <tr>\n      <th>215</th>\n      <td>216</td>\n      <td>Yamba</td>\n      <td>-29.435450</td>\n      <td>153.360306</td>\n    </tr>\n    <tr>\n      <th>216</th>\n      <td>217</td>\n      <td>Yeppoon</td>\n      <td>-23.126829</td>\n      <td>150.744064</td>\n    </tr>\n    <tr>\n      <th>217</th>\n      <td>218</td>\n      <td>Young</td>\n      <td>-34.313499</td>\n      <td>148.301071</td>\n    </tr>\n    <tr>\n      <th>218</th>\n      <td>219</td>\n      <td>Yulara</td>\n      <td>-25.245291</td>\n      <td>130.980545</td>\n    </tr>\n  </tbody>\n</table>\n<p>219 rows × 4 columns</p>\n</div>"
     },
     "metadata": {},
     "execution_count": 6
    }
   ],
   "source": [
    "# Import\n",
    "australia = pd.read_csv('australia.csv', sep = \",\")\n",
    "# Cleaning\n",
    "australia = australia[['id', 'city', 'lat', 'lng']]\n",
    "# Printing\n",
    "australia"
   ]
  },
  {
   "cell_type": "markdown",
   "metadata": {},
   "source": [
    "## Pré-Game"
   ]
  },
  {
   "cell_type": "markdown",
   "metadata": {},
   "source": [
    "### Estrutura de Dados"
   ]
  },
  {
   "cell_type": "code",
   "execution_count": 8,
   "metadata": {},
   "outputs": [],
   "source": [
    "class City:\n",
    "    def __init__(self, id, name, lat, lng):\n",
    "        self.id = id\n",
    "        self.name = name\n",
    "        self.lat = lat\n",
    "        self.lng = lng\n",
    "        self.roads = set()\n",
    "        self.weight = None\n",
    "\n",
    "    def successors(self):\n",
    "        for road in self.roads:\n",
    "            yield road.city, road.length\n",
    "    \n",
    "        \n",
    "class Road:\n",
    "    def __init__(self, city, length):\n",
    "        self.city = city\n",
    "        self.length = length\n",
    "        \n",
    "def add_road_between(city1, city2):\n",
    "    distance = 1.1 * sqrt((city1.lat - city2.lat)**2 + (city1.lng - city2.lng)**2)\n",
    "    # city1 -> city2\n",
    "    road1 = Road(city2, distance)\n",
    "    city1.roads.add(road1)\n",
    "    # city2 -> city1\n",
    "    road2 = Road(city1, distance)\n",
    "    city2.roads.add(road2)"
   ]
  },
  {
   "cell_type": "markdown",
   "metadata": {},
   "source": [
    "### Preenchendo a estrutura de dados"
   ]
  },
  {
   "cell_type": "code",
   "execution_count": 10,
   "metadata": {},
   "outputs": [],
   "source": [
    "cities = [None] # None é só para preencher o id = 0 (outra alternativa seria trabalhar com `índice - 1`)\n",
    "\n",
    "# Cities\n",
    "for index, row in australia.iterrows():\n",
    "    city = City(row['id'], row['city'], row['lat'], row['lng'])\n",
    "    cities.append(city)\n",
    "    \n",
    "# Roads\n",
    "for city in cities:\n",
    "    if city:\n",
    "        if city.id % 2 == 0:\n",
    "            # Road to (x - 1)\n",
    "            add_road_between(city, cities[city.id - 1])\n",
    "            \n",
    "            # Road to (x + 2) if it exists\n",
    "            if city.id + 2 < len(cities):\n",
    "                add_road_between(city, cities[city.id + 2])\n",
    "                \n",
    "        elif city.id > 2:\n",
    "            # Road to (x - 2)\n",
    "            add_road_between(city, cities[city.id - 2])\n",
    "            \n",
    "            # Road to (x + 1) if it exists\n",
    "            if city.id + 1 < len(cities):\n",
    "                add_road_between(city, cities[city.id + 1])"
   ]
  },
  {
   "cell_type": "markdown",
   "metadata": {},
   "source": [
    "## Algoritmo de Busca"
   ]
  },
  {
   "cell_type": "markdown",
   "metadata": {},
   "source": [
    "### Parâmetros"
   ]
  },
  {
   "cell_type": "code",
   "execution_count": 12,
   "metadata": {},
   "outputs": [],
   "source": [
    "# Escolher partida e destino (pode colocar o nome da cidade (formato string) ou o id (formato int))\n",
    "source = 'Alice Springs'\n",
    "destiny = 'Yulara'\n",
    "\n",
    "# Também funcionaria\n",
    "# source = 5\n",
    "# destiny = 219"
   ]
  },
  {
   "cell_type": "markdown",
   "metadata": {},
   "source": [
    "### Adiciona informação (Busca com informação)"
   ]
  },
  {
   "cell_type": "code",
   "execution_count": 14,
   "metadata": {},
   "outputs": [],
   "source": [
    "# Calcula as distâncias das cidades até o destino (em linha reta)\n",
    "\n",
    "# Encontra o nó da cidade destino\n",
    "if type(destiny) == str:\n",
    "    for city in cities:\n",
    "        if city and city.name == destiny:\n",
    "            dest_city = city\n",
    "            break\n",
    "        dest_city = None\n",
    "else:\n",
    "    for city in cities:\n",
    "        if city and city.id == destiny:\n",
    "            dest_city = city\n",
    "            break\n",
    "        dest_city = None\n",
    "        \n",
    "\n",
    "# Encontra o nó da cidade fonte\n",
    "if type(source) == str:\n",
    "    for city in cities:\n",
    "        if city and city.name == source:\n",
    "            src_city = city\n",
    "            break\n",
    "        src_city = None\n",
    "else:\n",
    "    for city in cities:\n",
    "        if city and city.id == source:\n",
    "            src_city = city\n",
    "            break\n",
    "        src_city = None\n",
    "\n",
    "if dest_city == None or src_city == None:\n",
    "    print('Cidades não encontradas')\n",
    "\n",
    "\n",
    "# Para cada distância seta o peso como a distância em linha reta até a cidade destino\n",
    "for city in cities:\n",
    "    if city:\n",
    "        city.weight = sqrt((city.lat - dest_city.lat)**2 + (city.lng - dest_city.lng)**2)"
   ]
  },
  {
   "cell_type": "code",
   "execution_count": 16,
   "metadata": {
    "tags": []
   },
   "outputs": [
    {
     "output_type": "stream",
     "name": "stdout",
     "text": "5 Alice Springs 4\n219 Yulara 1\n"
    }
   ],
   "source": [
    "print(src_city.id, src_city.name, len(src_city.roads))\n",
    "\n",
    "print(dest_city.id, dest_city.name, len(dest_city.roads))"
   ]
  },
  {
   "cell_type": "markdown",
   "metadata": {},
   "source": [
    "### Algoritmo"
   ]
  },
  {
   "cell_type": "code",
   "execution_count": 18,
   "metadata": {},
   "outputs": [],
   "source": [
    "# Algoritmo A*\n",
    "class Node:\n",
    "    def __init__(self, f_value, g_value, element, parent):\n",
    "        self.f_value = f_value\n",
    "        self.g_value = g_value\n",
    "        self.element = element\n",
    "        self.parent = parent\n",
    "\n",
    "    def __lt__(self, other):\n",
    "        if self.f_value != other.f_value:\n",
    "            return self.f_value < other.f_value\n",
    "        else:\n",
    "            return self.element.id < other.element.id\n",
    "\n",
    "def astar_search(initial_state, goal_test):\n",
    "    expanded = set()\n",
    "    # heap de minimo\n",
    "    pq = [Node(initial_state.weight, 0, initial_state, None)]\n",
    "    heap.heapify(pq)\n",
    "    for _ in tqdm(range(1000000)):\n",
    "        # não há caminho\n",
    "        if len(pq) == 0:\n",
    "            return None\n",
    "\n",
    "        curr = heap.heappop(pq)\n",
    "        if curr.element in expanded:\n",
    "            continue\n",
    "        else:\n",
    "            expanded.add(curr.element)\n",
    "\n",
    "        # encontrou o objetivo\n",
    "        if goal_test(curr.element):\n",
    "            return curr\n",
    "\n",
    "        # expandindo vizinhos\n",
    "        for succ, price in curr.element.successors():\n",
    "            if succ in expanded:\n",
    "                continue\n",
    "            new_g_value = (curr.g_value + price)\n",
    "            new_f_value = new_g_value + succ.weight\n",
    "            heap.heappush(pq, Node(new_f_value, new_g_value, succ, curr))"
   ]
  },
  {
   "cell_type": "code",
   "execution_count": null,
   "metadata": {
    "tags": []
   },
   "outputs": [],
   "source": [
    "def goal_test(city):\n",
    "    return city == dest_city\n",
    "\n",
    "solution_node = astar_search(src_city, goal_test)"
   ]
  },
  {
   "cell_type": "markdown",
   "metadata": {},
   "source": [
    "## Resultado"
   ]
  },
  {
   "cell_type": "code",
   "execution_count": 17,
   "metadata": {
    "tags": []
   },
   "outputs": [
    {
     "output_type": "stream",
     "name": "stdout",
     "text": "LENGTH:  124\nAlice Springs  ->\nAndamooka  ->\nArmidale  ->\nAyr  ->\nBallarat  ->\nBairnsdale East  ->\nBallina  ->\nBatemans Bay  ->\nBathurst  ->\nBendigo  ->\nBicheno  ->\nBirdsville  ->\nBordertown  ->\nBourke  ->\nBrisbane  ->\nBroome  ->\nBundaberg  ->\nBurnie  ->\nByron Bay  ->\nCairns  ->\nCaboolture  ->\nCaloundra  ->\nCanberra  ->\nCeduna  ->\nCharleville  ->\nClare  ->\nCobram  ->\nColac  ->\nCowell  ->\nCranbourne  ->\nDalby  ->\nDeniliquin  ->\nDubbo  ->\nEast Maitland  ->\nEidsvold  ->\nEsperance  ->\nForbes  ->\nGawler  ->\nGeorgetown  ->\nGingin  ->\nGeraldton  ->\nGladstone  ->\nGoondiwindi  ->\nGriffith  ->\nGympie South  ->\nHamilton  ->\nHobart  ->\nHughenden  ->\nInverell  ->\nKalbarri  ->\nKarratha  ->\nKatanning  ->\nKatoomba  ->\nKiama  ->\nKimba  ->\nKingoonya  ->\nKingston South East  ->\nKwinana  ->\nLaverton  ->\nLeonora  ->\nLongreach  ->\nManjimup  ->\nMaryborough  ->\nMeekatharra  ->\nMelton  ->\nMelbourne  ->\nMeningie  ->\nMildura  ->\nMorawa  ->\nMount Barker  ->\nMount Isa  ->\nMudgee  ->\nMuswellbrook  ->\nNarrabri West  ->\nNewcastle  ->\nNorseman  ->\nNorth Mackay  ->\nNorth Lismore  ->\nNorth Scottsdale  ->\nNowra  ->\nOatlands  ->\nOrange  ->\nPambula  ->\nParkes  ->\nPerth  ->\nPenola  ->\nPeterborough  ->\nPort Augusta West  ->\nPort Douglas  ->\nPort Lincoln  ->\nPort Pirie  ->\nPortland  ->\nQueanbeyan  ->\nQuilpie  ->\nRichmond  ->\nRockhampton  ->\nRoma  ->\nScone  ->\nShepparton  ->\nSeymour  ->\nSingleton  ->\nSouth Grafton  ->\nSouth Melbourne  ->\nStawell  ->\nSunbury  ->\nSydney  ->\nThargomindah  ->\nThree Springs  ->\nToowoomba  ->\nTraralgon  ->\nTumut  ->\nUlladulla  ->\nWagga Wagga  ->\nWallaroo  ->\nWangaratta  ->\nWarwick  ->\nWest Tamworth  ->\nWilcannia  ->\nWinton  ->\nWindorah  ->\nWollongong  ->\nWoomera  ->\nYeppoon  ->\nYulara  ->\n"
    }
   ],
   "source": [
    "path = []\n",
    "aux_node = solution_node\n",
    "while aux_node is not None:\n",
    "    path.append(aux_node.element)\n",
    "    aux_node = aux_node.parent\n",
    "    \n",
    "path.reverse()\n",
    "print('LENGTH: ', len(path))\n",
    "for city in path:\n",
    "    print(city.name, ' ->')"
   ]
  }
 ],
 "metadata": {
  "kernelspec": {
   "display_name": "Python 3",
   "language": "python",
   "name": "python3"
  },
  "language_info": {
   "codemirror_mode": {
    "name": "ipython",
    "version": 3
   },
   "file_extension": ".py",
   "mimetype": "text/x-python",
   "name": "python",
   "nbconvert_exporter": "python",
   "pygments_lexer": "ipython3",
   "version": "3.8.2-final"
  }
 },
 "nbformat": 4,
 "nbformat_minor": 4
}