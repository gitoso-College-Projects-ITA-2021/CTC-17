{
 "cells": [
  {
   "cell_type": "markdown",
   "metadata": {},
   "source": [
    "# Parte 1: Árvore de Decisão"
   ]
  },
  {
   "cell_type": "markdown",
   "metadata": {},
   "source": [
    "## Parâmetros editáveis"
   ]
  },
  {
   "cell_type": "code",
   "execution_count": null,
   "metadata": {},
   "outputs": [],
   "source": [
    "# Arquivo de dados\n",
    "file_name = './accident_data.csv'\n",
    "#file_name = './debug.csv'\n",
    "\n",
    "# Tamanho do set de treino\n",
    "training_ratio = 0.8"
   ]
  },
  {
   "cell_type": "markdown",
   "metadata": {},
   "source": [
    "Antes de executar este caderno, pode ser necessário instalar previamente as dependências em seu sistema. Isso pode ser feito com os seguintes comandos:\n",
    "```bash\n",
    "pip install --user numpy\n",
    "pip install --user pandas\n",
    "```"
   ]
  },
  {
   "cell_type": "markdown",
   "metadata": {},
   "source": [
    "## Dependencias\n"
   ]
  },
  {
   "cell_type": "code",
   "execution_count": 2,
   "metadata": {},
   "outputs": [],
   "source": [
    "import numpy as np\n",
    "import pandas as pd"
   ]
  },
  {
   "cell_type": "markdown",
   "metadata": {},
   "source": [
    "## Importando os dados"
   ]
  },
  {
   "cell_type": "code",
   "execution_count": 3,
   "metadata": {
    "tags": []
   },
   "outputs": [
    {
     "data": {
      "text/html": [
       "<div>\n",
       "<style scoped>\n",
       "    .dataframe tbody tr th:only-of-type {\n",
       "        vertical-align: middle;\n",
       "    }\n",
       "\n",
       "    .dataframe tbody tr th {\n",
       "        vertical-align: top;\n",
       "    }\n",
       "\n",
       "    .dataframe thead th {\n",
       "        text-align: right;\n",
       "    }\n",
       "</style>\n",
       "<table border=\"1\" class=\"dataframe\">\n",
       "  <thead>\n",
       "    <tr style=\"text-align: right;\">\n",
       "      <th></th>\n",
       "      <th>Data</th>\n",
       "      <th>Countries</th>\n",
       "      <th>Local</th>\n",
       "      <th>Industry Sector</th>\n",
       "      <th>Accident Level</th>\n",
       "      <th>Potential Accident Level</th>\n",
       "      <th>Genre</th>\n",
       "      <th>Employee ou Terceiro</th>\n",
       "      <th>Risco Critico</th>\n",
       "    </tr>\n",
       "  </thead>\n",
       "  <tbody>\n",
       "    <tr>\n",
       "      <th>0</th>\n",
       "      <td>2016-01-01 00:00:00</td>\n",
       "      <td>Country_01</td>\n",
       "      <td>Local_01</td>\n",
       "      <td>Mining</td>\n",
       "      <td>I</td>\n",
       "      <td>IV</td>\n",
       "      <td>Male</td>\n",
       "      <td>Third Party</td>\n",
       "      <td>Pressed</td>\n",
       "    </tr>\n",
       "    <tr>\n",
       "      <th>1</th>\n",
       "      <td>2016-01-02 00:00:00</td>\n",
       "      <td>Country_02</td>\n",
       "      <td>Local_02</td>\n",
       "      <td>Mining</td>\n",
       "      <td>I</td>\n",
       "      <td>IV</td>\n",
       "      <td>Male</td>\n",
       "      <td>Employee</td>\n",
       "      <td>Pressurized Systems</td>\n",
       "    </tr>\n",
       "    <tr>\n",
       "      <th>2</th>\n",
       "      <td>2016-01-06 00:00:00</td>\n",
       "      <td>Country_01</td>\n",
       "      <td>Local_03</td>\n",
       "      <td>Mining</td>\n",
       "      <td>I</td>\n",
       "      <td>III</td>\n",
       "      <td>Male</td>\n",
       "      <td>Third Party (Remote)</td>\n",
       "      <td>Manual Tools</td>\n",
       "    </tr>\n",
       "    <tr>\n",
       "      <th>3</th>\n",
       "      <td>2016-01-08 00:00:00</td>\n",
       "      <td>Country_01</td>\n",
       "      <td>Local_04</td>\n",
       "      <td>Mining</td>\n",
       "      <td>I</td>\n",
       "      <td>I</td>\n",
       "      <td>Male</td>\n",
       "      <td>Third Party</td>\n",
       "      <td>Others</td>\n",
       "    </tr>\n",
       "    <tr>\n",
       "      <th>4</th>\n",
       "      <td>2016-01-10 00:00:00</td>\n",
       "      <td>Country_01</td>\n",
       "      <td>Local_04</td>\n",
       "      <td>Mining</td>\n",
       "      <td>IV</td>\n",
       "      <td>IV</td>\n",
       "      <td>Male</td>\n",
       "      <td>Third Party</td>\n",
       "      <td>Others</td>\n",
       "    </tr>\n",
       "    <tr>\n",
       "      <th>...</th>\n",
       "      <td>...</td>\n",
       "      <td>...</td>\n",
       "      <td>...</td>\n",
       "      <td>...</td>\n",
       "      <td>...</td>\n",
       "      <td>...</td>\n",
       "      <td>...</td>\n",
       "      <td>...</td>\n",
       "      <td>...</td>\n",
       "    </tr>\n",
       "    <tr>\n",
       "      <th>434</th>\n",
       "      <td>2017-07-04 00:00:00</td>\n",
       "      <td>Country_01</td>\n",
       "      <td>Local_04</td>\n",
       "      <td>Mining</td>\n",
       "      <td>I</td>\n",
       "      <td>III</td>\n",
       "      <td>Male</td>\n",
       "      <td>Third Party</td>\n",
       "      <td>Others</td>\n",
       "    </tr>\n",
       "    <tr>\n",
       "      <th>435</th>\n",
       "      <td>2017-07-04 00:00:00</td>\n",
       "      <td>Country_01</td>\n",
       "      <td>Local_03</td>\n",
       "      <td>Mining</td>\n",
       "      <td>I</td>\n",
       "      <td>II</td>\n",
       "      <td>Female</td>\n",
       "      <td>Employee</td>\n",
       "      <td>Others</td>\n",
       "    </tr>\n",
       "    <tr>\n",
       "      <th>436</th>\n",
       "      <td>2017-07-05 00:00:00</td>\n",
       "      <td>Country_02</td>\n",
       "      <td>Local_09</td>\n",
       "      <td>Metals</td>\n",
       "      <td>I</td>\n",
       "      <td>II</td>\n",
       "      <td>Male</td>\n",
       "      <td>Employee</td>\n",
       "      <td>Venomous Animals</td>\n",
       "    </tr>\n",
       "    <tr>\n",
       "      <th>437</th>\n",
       "      <td>2017-07-06 00:00:00</td>\n",
       "      <td>Country_02</td>\n",
       "      <td>Local_05</td>\n",
       "      <td>Metals</td>\n",
       "      <td>I</td>\n",
       "      <td>II</td>\n",
       "      <td>Male</td>\n",
       "      <td>Employee</td>\n",
       "      <td>Cut</td>\n",
       "    </tr>\n",
       "    <tr>\n",
       "      <th>438</th>\n",
       "      <td>2017-07-09 00:00:00</td>\n",
       "      <td>Country_01</td>\n",
       "      <td>Local_04</td>\n",
       "      <td>Mining</td>\n",
       "      <td>I</td>\n",
       "      <td>II</td>\n",
       "      <td>Female</td>\n",
       "      <td>Third Party</td>\n",
       "      <td>Fall prevention (same level)</td>\n",
       "    </tr>\n",
       "  </tbody>\n",
       "</table>\n",
       "<p>439 rows × 9 columns</p>\n",
       "</div>"
      ],
      "text/plain": [
       "                    Data   Countries     Local Industry Sector Accident Level  \\\n",
       "0    2016-01-01 00:00:00  Country_01  Local_01          Mining              I   \n",
       "1    2016-01-02 00:00:00  Country_02  Local_02          Mining              I   \n",
       "2    2016-01-06 00:00:00  Country_01  Local_03          Mining              I   \n",
       "3    2016-01-08 00:00:00  Country_01  Local_04          Mining              I   \n",
       "4    2016-01-10 00:00:00  Country_01  Local_04          Mining             IV   \n",
       "..                   ...         ...       ...             ...            ...   \n",
       "434  2017-07-04 00:00:00  Country_01  Local_04          Mining              I   \n",
       "435  2017-07-04 00:00:00  Country_01  Local_03          Mining              I   \n",
       "436  2017-07-05 00:00:00  Country_02  Local_09          Metals              I   \n",
       "437  2017-07-06 00:00:00  Country_02  Local_05          Metals              I   \n",
       "438  2017-07-09 00:00:00  Country_01  Local_04          Mining              I   \n",
       "\n",
       "    Potential Accident Level   Genre  Employee ou Terceiro  \\\n",
       "0                         IV    Male           Third Party   \n",
       "1                         IV    Male              Employee   \n",
       "2                        III    Male  Third Party (Remote)   \n",
       "3                          I    Male           Third Party   \n",
       "4                         IV    Male           Third Party   \n",
       "..                       ...     ...                   ...   \n",
       "434                      III    Male           Third Party   \n",
       "435                       II  Female              Employee   \n",
       "436                       II    Male              Employee   \n",
       "437                       II    Male              Employee   \n",
       "438                       II  Female           Third Party   \n",
       "\n",
       "                    Risco Critico  \n",
       "0                         Pressed  \n",
       "1             Pressurized Systems  \n",
       "2                    Manual Tools  \n",
       "3                          Others  \n",
       "4                          Others  \n",
       "..                            ...  \n",
       "434                        Others  \n",
       "435                        Others  \n",
       "436              Venomous Animals  \n",
       "437                           Cut  \n",
       "438  Fall prevention (same level)  \n",
       "\n",
       "[439 rows x 9 columns]"
      ]
     },
     "execution_count": 3,
     "metadata": {},
     "output_type": "execute_result"
    }
   ],
   "source": [
    "# Import\n",
    "dataset = pd.read_csv(file_name, sep = \",\")\n",
    "\n",
    "# Cleaning\n",
    "# dataset = dataset[]\n",
    "\n",
    "# Printing\n",
    "dataset"
   ]
  },
  {
   "cell_type": "markdown",
   "metadata": {},
   "source": [
    "## Pré-Processamento"
   ]
  },
  {
   "cell_type": "code",
   "execution_count": 4,
   "metadata": {},
   "outputs": [],
   "source": [
    "def enumeracao(valores):\n",
    "    mapping = {}\n",
    "    translating = {}\n",
    "    cont = 0\n",
    "    for val in valores:\n",
    "        if val not in mapping:\n",
    "            mapping[val] = cont\n",
    "            translating[cont] = val\n",
    "            cont += 1\n",
    "    return mapping, translating, cont"
   ]
  },
  {
   "cell_type": "code",
   "execution_count": 5,
   "metadata": {},
   "outputs": [
    {
     "data": {
      "text/html": [
       "<div>\n",
       "<style scoped>\n",
       "    .dataframe tbody tr th:only-of-type {\n",
       "        vertical-align: middle;\n",
       "    }\n",
       "\n",
       "    .dataframe tbody tr th {\n",
       "        vertical-align: top;\n",
       "    }\n",
       "\n",
       "    .dataframe thead th {\n",
       "        text-align: right;\n",
       "    }\n",
       "</style>\n",
       "<table border=\"1\" class=\"dataframe\">\n",
       "  <thead>\n",
       "    <tr style=\"text-align: right;\">\n",
       "      <th></th>\n",
       "      <th>Data</th>\n",
       "      <th>Countries</th>\n",
       "      <th>Local</th>\n",
       "      <th>Industry Sector</th>\n",
       "      <th>Accident Level</th>\n",
       "      <th>Potential Accident Level</th>\n",
       "      <th>Genre</th>\n",
       "      <th>Employee ou Terceiro</th>\n",
       "      <th>Risco Critico</th>\n",
       "    </tr>\n",
       "  </thead>\n",
       "  <tbody>\n",
       "    <tr>\n",
       "      <th>0</th>\n",
       "      <td>0</td>\n",
       "      <td>0</td>\n",
       "      <td>0</td>\n",
       "      <td>0</td>\n",
       "      <td>0</td>\n",
       "      <td>0</td>\n",
       "      <td>0</td>\n",
       "      <td>0</td>\n",
       "      <td>0</td>\n",
       "    </tr>\n",
       "    <tr>\n",
       "      <th>1</th>\n",
       "      <td>1</td>\n",
       "      <td>1</td>\n",
       "      <td>1</td>\n",
       "      <td>0</td>\n",
       "      <td>0</td>\n",
       "      <td>0</td>\n",
       "      <td>0</td>\n",
       "      <td>1</td>\n",
       "      <td>1</td>\n",
       "    </tr>\n",
       "    <tr>\n",
       "      <th>2</th>\n",
       "      <td>2</td>\n",
       "      <td>0</td>\n",
       "      <td>2</td>\n",
       "      <td>0</td>\n",
       "      <td>0</td>\n",
       "      <td>1</td>\n",
       "      <td>0</td>\n",
       "      <td>2</td>\n",
       "      <td>2</td>\n",
       "    </tr>\n",
       "    <tr>\n",
       "      <th>3</th>\n",
       "      <td>3</td>\n",
       "      <td>0</td>\n",
       "      <td>3</td>\n",
       "      <td>0</td>\n",
       "      <td>0</td>\n",
       "      <td>2</td>\n",
       "      <td>0</td>\n",
       "      <td>0</td>\n",
       "      <td>3</td>\n",
       "    </tr>\n",
       "    <tr>\n",
       "      <th>4</th>\n",
       "      <td>4</td>\n",
       "      <td>0</td>\n",
       "      <td>3</td>\n",
       "      <td>0</td>\n",
       "      <td>1</td>\n",
       "      <td>0</td>\n",
       "      <td>0</td>\n",
       "      <td>0</td>\n",
       "      <td>3</td>\n",
       "    </tr>\n",
       "    <tr>\n",
       "      <th>...</th>\n",
       "      <td>...</td>\n",
       "      <td>...</td>\n",
       "      <td>...</td>\n",
       "      <td>...</td>\n",
       "      <td>...</td>\n",
       "      <td>...</td>\n",
       "      <td>...</td>\n",
       "      <td>...</td>\n",
       "      <td>...</td>\n",
       "    </tr>\n",
       "    <tr>\n",
       "      <th>434</th>\n",
       "      <td>283</td>\n",
       "      <td>0</td>\n",
       "      <td>3</td>\n",
       "      <td>0</td>\n",
       "      <td>0</td>\n",
       "      <td>1</td>\n",
       "      <td>0</td>\n",
       "      <td>0</td>\n",
       "      <td>3</td>\n",
       "    </tr>\n",
       "    <tr>\n",
       "      <th>435</th>\n",
       "      <td>283</td>\n",
       "      <td>0</td>\n",
       "      <td>2</td>\n",
       "      <td>0</td>\n",
       "      <td>0</td>\n",
       "      <td>3</td>\n",
       "      <td>1</td>\n",
       "      <td>1</td>\n",
       "      <td>3</td>\n",
       "    </tr>\n",
       "    <tr>\n",
       "      <th>436</th>\n",
       "      <td>284</td>\n",
       "      <td>1</td>\n",
       "      <td>9</td>\n",
       "      <td>1</td>\n",
       "      <td>0</td>\n",
       "      <td>3</td>\n",
       "      <td>0</td>\n",
       "      <td>1</td>\n",
       "      <td>21</td>\n",
       "    </tr>\n",
       "    <tr>\n",
       "      <th>437</th>\n",
       "      <td>285</td>\n",
       "      <td>1</td>\n",
       "      <td>4</td>\n",
       "      <td>1</td>\n",
       "      <td>0</td>\n",
       "      <td>3</td>\n",
       "      <td>0</td>\n",
       "      <td>1</td>\n",
       "      <td>13</td>\n",
       "    </tr>\n",
       "    <tr>\n",
       "      <th>438</th>\n",
       "      <td>286</td>\n",
       "      <td>0</td>\n",
       "      <td>3</td>\n",
       "      <td>0</td>\n",
       "      <td>0</td>\n",
       "      <td>3</td>\n",
       "      <td>1</td>\n",
       "      <td>0</td>\n",
       "      <td>4</td>\n",
       "    </tr>\n",
       "  </tbody>\n",
       "</table>\n",
       "<p>439 rows × 9 columns</p>\n",
       "</div>"
      ],
      "text/plain": [
       "     Data  Countries  Local  Industry Sector  Accident Level  \\\n",
       "0       0          0      0                0               0   \n",
       "1       1          1      1                0               0   \n",
       "2       2          0      2                0               0   \n",
       "3       3          0      3                0               0   \n",
       "4       4          0      3                0               1   \n",
       "..    ...        ...    ...              ...             ...   \n",
       "434   283          0      3                0               0   \n",
       "435   283          0      2                0               0   \n",
       "436   284          1      9                1               0   \n",
       "437   285          1      4                1               0   \n",
       "438   286          0      3                0               0   \n",
       "\n",
       "     Potential Accident Level  Genre  Employee ou Terceiro  Risco Critico  \n",
       "0                           0      0                     0              0  \n",
       "1                           0      0                     1              1  \n",
       "2                           1      0                     2              2  \n",
       "3                           2      0                     0              3  \n",
       "4                           0      0                     0              3  \n",
       "..                        ...    ...                   ...            ...  \n",
       "434                         1      0                     0              3  \n",
       "435                         3      1                     1              3  \n",
       "436                         3      0                     1             21  \n",
       "437                         3      0                     1             13  \n",
       "438                         3      1                     0              4  \n",
       "\n",
       "[439 rows x 9 columns]"
      ]
     },
     "execution_count": 5,
     "metadata": {},
     "output_type": "execute_result"
    }
   ],
   "source": [
    "translators = {}\n",
    "sizes = {}\n",
    "\n",
    "for col in dataset.columns:\n",
    "    mapping, translating, size = enumeracao(dataset[col])\n",
    "    dataset[col] = dataset[col].map(mapping)\n",
    "    \n",
    "    translators[col] = translating\n",
    "    sizes[col] = size\n",
    "\n",
    "dataset"
   ]
  },
  {
   "cell_type": "markdown",
   "metadata": {},
   "source": [
    "## Separando em treino e teste"
   ]
  },
  {
   "cell_type": "code",
   "execution_count": 6,
   "metadata": {},
   "outputs": [],
   "source": [
    "# Treino\n",
    "#train = dataset.sample(frac=training_ratio, random_state=21)\n",
    "train = dataset.sample(frac=training_ratio)\n",
    "# Teste\n",
    "test = dataset.drop(train.index)"
   ]
  },
  {
   "cell_type": "markdown",
   "metadata": {},
   "source": [
    "## Estrutura de Dados"
   ]
  },
  {
   "cell_type": "code",
   "execution_count": 7,
   "metadata": {},
   "outputs": [],
   "source": [
    "from abc import ABC\n",
    "\n",
    "class DesisionTree(ABC):\n",
    "    def inferencia(self, value):\n",
    "        raise NotImplementedError()\n",
    "\n",
    "class Node(DesisionTree):\n",
    "    def __init__(self, test):\n",
    "        self.test = test\n",
    "        self.trees = np.empty((sizes[test],), dtype=object)\n",
    "        self.num_trees = 0\n",
    "\n",
    "    def add_tree(self, tree, idx):\n",
    "        self.trees[idx] = tree\n",
    "        self.num_trees += 1\n",
    "\n",
    "    def inferencia(self, value):\n",
    "        val = value[self.test]\n",
    "        return self.trees[val].inferencia(value)\n",
    "\n",
    "class Leaf(DesisionTree):\n",
    "    def __init__(self, label):\n",
    "        self.label = label\n",
    "\n",
    "    def inferencia(self, value):\n",
    "        return self.label"
   ]
  },
  {
   "cell_type": "markdown",
   "metadata": {},
   "source": [
    "## Funções Auxiliares"
   ]
  },
  {
   "cell_type": "code",
   "execution_count": 8,
   "metadata": {},
   "outputs": [],
   "source": [
    "class_name = 'Accident Level'\n",
    "quant_classes = sizes[class_name]\n",
    "\n",
    "def distribuicao(valores):\n",
    "    dist = {}\n",
    "    for val in valores:\n",
    "        if val in dist:\n",
    "            dist[val] += 1\n",
    "        else:\n",
    "            dist[val] = 1\n",
    "    return dist\n",
    "\n",
    "def valor_maioria(dist_valores):\n",
    "    max_quant = -1 \n",
    "    max_class = ''\n",
    "    for item in dist_valores.items():\n",
    "        if item[1] > max_quant:\n",
    "            max_quant = item[1]\n",
    "            max_class = item[0]\n",
    "    return max_class\n",
    "\n",
    "def calcula_entropia(exemplos):\n",
    "    probabilities = np.zeros((quant_classes))\n",
    "\n",
    "    total_number = len(exemplos)\n",
    "    for ex in exemplos[class_name]:\n",
    "        probabilities[ex] += 1\n",
    "    \n",
    "    old_settings = np.seterr(all='ignore')  # Disable warnings\n",
    "    probabilities /= total_number\n",
    "    \n",
    "    entropy = (-probabilities) * (np.log2(probabilities))\n",
    "    np.seterr(**old_settings) # Enable warnings back\n",
    "    return np.nan_to_num(entropy).sum()\n",
    "\n",
    "def melhor_atributo(atributos, exemplos):\n",
    "    total_number = len(exemplos)\n",
    "    entropia = calcula_entropia(exemplos)\n",
    "\n",
    "    max_ganho = -np.inf\n",
    "    max_atrib = ''\n",
    "    for atrib in atributos:\n",
    "        ganho = entropia\n",
    "        for val in range(sizes[atrib]):\n",
    "            filterring = exemplos[atrib] == val\n",
    "            exemplos_com = exemplos[filterring]\n",
    "\n",
    "            ganho -= (len(exemplos_com) / total_number) * calcula_entropia(exemplos_com)\n",
    "        if ganho > max_ganho:\n",
    "            max_ganho = ganho\n",
    "            max_atrib = atrib\n",
    "    return max_atrib"
   ]
  },
  {
   "cell_type": "markdown",
   "metadata": {},
   "source": [
    "## Algoritmo de Treinamento"
   ]
  },
  {
   "cell_type": "code",
   "execution_count": 9,
   "metadata": {},
   "outputs": [],
   "source": [
    "def treinamento(exemplos, atributos, padrao):\n",
    "    if len(exemplos) == 0:\n",
    "        return Leaf(padrao)\n",
    "\n",
    "    dist = distribuicao(exemplos[class_name])\n",
    "    if len(dist) == 1:\n",
    "        return Leaf(list(dist.keys())[0])\n",
    "\n",
    "    if len(atributos) == 0:\n",
    "        return Leaf(valor_maioria(dist))\n",
    "    \n",
    "    melhor = melhor_atributo(atributos, exemplos)\n",
    "    arvore = Node(melhor)\n",
    "    maioria = valor_maioria(dist)\n",
    "\n",
    "    for val in range(sizes[melhor]):\n",
    "        filterring = exemplos[melhor] == val\n",
    "        exemplos_i = exemplos[filterring]\n",
    "\n",
    "        atributos_i = atributos.copy()\n",
    "        atributos_i.discard(melhor)\n",
    "        \n",
    "        subarvore = treinamento(exemplos_i, atributos_i, maioria)\n",
    "        arvore.add_tree(subarvore, val)\n",
    "    return arvore"
   ]
  },
  {
   "cell_type": "code",
   "execution_count": 10,
   "metadata": {},
   "outputs": [],
   "source": [
    "# Armazena o nome dos atributos em um conjunto\n",
    "atributos = set()\n",
    "for col in train.columns:\n",
    "    atributos.add(col)\n",
    "\n",
    "atributos.remove(class_name)\n",
    "\n",
    "# Realiza o treinamento\n",
    "solution = treinamento(train, atributos, '')"
   ]
  },
  {
   "cell_type": "markdown",
   "metadata": {},
   "source": [
    "## Visualizando algumas respostas"
   ]
  },
  {
   "cell_type": "code",
   "execution_count": 11,
   "metadata": {},
   "outputs": [
    {
     "name": "stdout",
     "output_type": "stream",
     "text": [
      "---------------------------\n",
      "Real =  I | Predicted =  I\n",
      "---------------------------\n",
      "Real =  I | Predicted =  I\n",
      "---------------------------\n",
      "Real =  IV | Predicted =  I\n",
      "---------------------------\n",
      "Real =  I | Predicted =  I\n",
      "---------------------------\n",
      "Real =  I | Predicted =  I\n"
     ]
    }
   ],
   "source": [
    "# Visualizando algumas respostas\n",
    "num_views = 5\n",
    "for i in range(num_views):\n",
    "    real = test.iloc[i][class_name]\n",
    "    predicted = solution.inferencia(test.iloc[i])\n",
    "    print('---------------------------')\n",
    "    print('Real = ', translators[class_name][real], '| Predicted = ', translators[class_name][predicted])"
   ]
  },
  {
   "cell_type": "markdown",
   "metadata": {},
   "source": [
    "## Calculando a taxa de acerto no fração do dataset reservada para teste"
   ]
  },
  {
   "cell_type": "code",
   "execution_count": 12,
   "metadata": {},
   "outputs": [
    {
     "name": "stdout",
     "output_type": "stream",
     "text": [
      "Porcentagem de acertos =  62.5 %\n"
     ]
    }
   ],
   "source": [
    "count_acertos = 0\n",
    "for i in range(len(test)):\n",
    "    real = test.iloc[i][class_name]\n",
    "    predicted = solution.inferencia(test.iloc[i])\n",
    "    if real == predicted:\n",
    "        count_acertos += 1\n",
    "\n",
    "print('Porcentagem de acertos = ', count_acertos / len(test) * 100, '%')"
   ]
  },
  {
   "cell_type": "markdown",
   "metadata": {},
   "source": [
    "---\n",
    "# Parte 2: Classificador à priori"
   ]
  },
  {
   "cell_type": "markdown",
   "metadata": {},
   "source": [
    "## Classificador por Média"
   ]
  },
  {
   "cell_type": "code",
   "execution_count": 13,
   "metadata": {},
   "outputs": [],
   "source": [
    "# Classificador utilizando a média\n",
    "media = 0\n",
    "for i in range(len(train)):\n",
    "    media += train.iloc[i][class_name]\n",
    "class_media = round(media / len(train))"
   ]
  },
  {
   "cell_type": "code",
   "execution_count": 14,
   "metadata": {},
   "outputs": [
    {
     "name": "stdout",
     "output_type": "stream",
     "text": [
      "---------------------------\n",
      "Real =  I | Predicted =  IV\n",
      "---------------------------\n",
      "Real =  I | Predicted =  IV\n",
      "---------------------------\n",
      "Real =  IV | Predicted =  IV\n",
      "---------------------------\n",
      "Real =  I | Predicted =  IV\n",
      "---------------------------\n",
      "Real =  I | Predicted =  IV\n"
     ]
    }
   ],
   "source": [
    "# Visualizando algumas respostas\n",
    "num_views = 5\n",
    "for i in range(num_views):\n",
    "    real = test.iloc[i][class_name]\n",
    "    predicted = class_media\n",
    "    print('---------------------------')\n",
    "    print('Real = ', translators[class_name][real], '| Predicted = ', translators[class_name][predicted])"
   ]
  },
  {
   "cell_type": "markdown",
   "metadata": {},
   "source": [
    "### Desempenho"
   ]
  },
  {
   "cell_type": "code",
   "execution_count": 15,
   "metadata": {},
   "outputs": [
    {
     "name": "stdout",
     "output_type": "stream",
     "text": [
      "Porcentagem de acertos =  6.8181818181818175 %\n"
     ]
    }
   ],
   "source": [
    "count_acertos = 0\n",
    "for i in range(len(test)):\n",
    "    real = test.iloc[i][class_name]\n",
    "    if real == class_media:\n",
    "        count_acertos += 1\n",
    "\n",
    "print('Porcentagem de acertos = ', count_acertos / len(test) * 100, '%')"
   ]
  },
  {
   "cell_type": "markdown",
   "metadata": {},
   "source": [
    "## Classificador por Moda"
   ]
  },
  {
   "cell_type": "code",
   "execution_count": 16,
   "metadata": {},
   "outputs": [],
   "source": [
    "# Classificador utilizando a moda\n",
    "moda = {}\n",
    "for i in range(len(train)):\n",
    "    if train.iloc[i][class_name] in moda:\n",
    "        moda[train.iloc[i][class_name]] += 1\n",
    "    else:\n",
    "        moda[train.iloc[i][class_name]] = 1\n",
    "\n",
    "value_moda = -1\n",
    "class_moda = -1\n",
    "for key in moda:\n",
    "    if moda[key] > value_moda:\n",
    "        value_moda = moda[key]\n",
    "        class_moda = key"
   ]
  },
  {
   "cell_type": "markdown",
   "metadata": {},
   "source": [
    "### Desempenho"
   ]
  },
  {
   "cell_type": "code",
   "execution_count": 17,
   "metadata": {},
   "outputs": [
    {
     "name": "stdout",
     "output_type": "stream",
     "text": [
      "Porcentagem de acertos =  72.72727272727273 %\n"
     ]
    }
   ],
   "source": [
    "count_acertos = 0\n",
    "for i in range(len(test)):\n",
    "    real = test.iloc[i][class_name]\n",
    "    if real == class_moda:\n",
    "        count_acertos += 1\n",
    "\n",
    "print('Porcentagem de acertos = ', count_acertos / len(test) * 100, '%')"
   ]
  },
  {
   "cell_type": "code",
   "execution_count": null,
   "metadata": {},
   "outputs": [],
   "source": []
  }
 ],
 "metadata": {
  "kernelspec": {
   "display_name": "Python 3",
   "language": "python",
   "name": "python3"
  },
  "language_info": {
   "codemirror_mode": {
    "name": "ipython",
    "version": 3
   },
   "file_extension": ".py",
   "mimetype": "text/x-python",
   "name": "python",
   "nbconvert_exporter": "python",
   "pygments_lexer": "ipython3",
   "version": "3.8.5"
  }
 },
 "nbformat": 4,
 "nbformat_minor": 4
}
