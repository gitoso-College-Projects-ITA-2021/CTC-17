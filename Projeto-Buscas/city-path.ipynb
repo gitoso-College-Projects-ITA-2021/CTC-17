{
 "cells": [
  {
   "cell_type": "markdown",
   "metadata": {},
   "source": [
    "# (CTC-17) Projeto de Buscas\n",
    "---"
   ]
  },
  {
   "cell_type": "markdown",
   "metadata": {},
   "source": [
    "## Dependências"
   ]
  },
  {
   "cell_type": "code",
   "execution_count": null,
   "metadata": {},
   "outputs": [],
   "source": [
    "import pandas as pd\n",
    "from math import sqrt"
   ]
  },
  {
   "cell_type": "markdown",
   "metadata": {},
   "source": [
    "## Importando os dados"
   ]
  },
  {
   "cell_type": "code",
   "execution_count": null,
   "metadata": {},
   "outputs": [],
   "source": [
    "# Import\n",
    "australia = pd.read_csv('australia.csv', sep = \",\")\n",
    "# Cleaning\n",
    "australia = australia[['id', 'city', 'lat', 'lng']]\n",
    "# Printing\n",
    "australia"
   ]
  },
  {
   "cell_type": "markdown",
   "metadata": {},
   "source": [
    "## Pré-Game"
   ]
  },
  {
   "cell_type": "markdown",
   "metadata": {},
   "source": [
    "### Estrutura de Dados"
   ]
  },
  {
   "cell_type": "code",
   "execution_count": null,
   "metadata": {},
   "outputs": [],
   "source": [
    "class City:\n",
    "    def __init__(self, id, name, lat, lng):\n",
    "        self.id = id\n",
    "        self.name = name\n",
    "        self.lat = lat\n",
    "        self.lng = lng\n",
    "        self.weight = None\n",
    "        self.roads = []\n",
    "        \n",
    "    def set_weight(self, weight):\n",
    "        self.weight = weight\n",
    "        \n",
    "    def add_road_to(self, city):\n",
    "        distance = 1.1 * sqrt((self.lat - city.lat)**2 + (self.lng - city.lng)**2)\n",
    "        road = Road(city.id, distance)\n",
    "        self.roads.append(road)\n",
    "    \n",
    "        \n",
    "class Road:\n",
    "    def __init__(self, id_dest, lenght):\n",
    "        self.id_dest = id_dest\n",
    "        self.length = lenght"
   ]
  },
  {
   "cell_type": "markdown",
   "metadata": {},
   "source": [
    "### Preenchendo a estrutura de dados"
   ]
  },
  {
   "cell_type": "code",
   "execution_count": null,
   "metadata": {},
   "outputs": [],
   "source": [
    "cities = [None] # None é só para preencher o id = 0 (outra alternativa seria trabalhar com `índice - 1`)\n",
    "\n",
    "# Cities\n",
    "for index, row in australia.iterrows():\n",
    "    city = City(row['id'], row['city'], row['lat'], row['lng'])\n",
    "    cities.append(city)\n",
    "    \n",
    "# Roads\n",
    "for city in cities:\n",
    "    if city:\n",
    "        if city.id % 2 == 0:\n",
    "            # Road to (x - 1)\n",
    "            city.add_road_to(cities[city.id - 1])\n",
    "            \n",
    "            # Road to (x + 2) if it exists\n",
    "            if city.id + 2 < len(cities):\n",
    "                city.add_road_to(cities[city.id + 2])\n",
    "                \n",
    "        elif city.id > 2:\n",
    "            # Road to (x - 2)\n",
    "            city.add_road_to(cities[city.id - 2])\n",
    "            \n",
    "            # Road to (x + 1) if it exists\n",
    "            if city.id + 1 < len(cities):\n",
    "                city.add_road_to(cities[city.id + 1])"
   ]
  },
  {
   "cell_type": "markdown",
   "metadata": {},
   "source": [
    "## Algoritmo de Busca"
   ]
  },
  {
   "cell_type": "markdown",
   "metadata": {},
   "source": [
    "### Parâmetros"
   ]
  },
  {
   "cell_type": "code",
   "execution_count": null,
   "metadata": {},
   "outputs": [],
   "source": [
    "# Escolher partida e destino (pode colocar o nome da cidade (formato string) ou o id (formato int))\n",
    "source = 'Alice Springs'\n",
    "destiny = 'Yulara'\n",
    "\n",
    "# Também funcionaria\n",
    "#source = 5\n",
    "#destiny = 219"
   ]
  },
  {
   "cell_type": "markdown",
   "metadata": {},
   "source": [
    "### Adiciona informação (Busca com informação)"
   ]
  },
  {
   "cell_type": "code",
   "execution_count": null,
   "metadata": {},
   "outputs": [],
   "source": [
    "# Calcula as distâncias das cidades até o destino (em linha reta)\n",
    "\n",
    "# Encontra o nó da cidade destino\n",
    "if type(destiny) == str:\n",
    "    for city in cities:\n",
    "        if city and city.name == destiny:\n",
    "            dest_city = city\n",
    "            break\n",
    "        dest_city = None\n",
    "else:\n",
    "    for city in cities:\n",
    "        if city and city.id == destiny:\n",
    "            dest_city = city\n",
    "            break\n",
    "        dest_city = None\n",
    "\n",
    "# Para cada distância seta o peso como a distância em linha reta até a cidade destino\n",
    "for city in cities:\n",
    "    if city:\n",
    "        city.weight = sqrt((city.lat - dest_city.lat)**2 + (city.lng - dest_city.lng)**2)"
   ]
  },
  {
   "cell_type": "markdown",
   "metadata": {},
   "source": [
    "### Algoritmo"
   ]
  },
  {
   "cell_type": "code",
   "execution_count": null,
   "metadata": {},
   "outputs": [],
   "source": [
    "# Realizar a busca via algum algoritmo (A*?)"
   ]
  },
  {
   "cell_type": "markdown",
   "metadata": {},
   "source": [
    "## Resultado"
   ]
  },
  {
   "cell_type": "code",
   "execution_count": null,
   "metadata": {},
   "outputs": [],
   "source": [
    "# Mostrar a menor rota"
   ]
  }
 ],
 "metadata": {
  "kernelspec": {
   "display_name": "Python 3",
   "language": "python",
   "name": "python3"
  },
  "language_info": {
   "codemirror_mode": {
    "name": "ipython",
    "version": 3
   },
   "file_extension": ".py",
   "mimetype": "text/x-python",
   "name": "python",
   "nbconvert_exporter": "python",
   "pygments_lexer": "ipython3",
   "version": "3.8.5"
  }
 },
 "nbformat": 4,
 "nbformat_minor": 4
}
