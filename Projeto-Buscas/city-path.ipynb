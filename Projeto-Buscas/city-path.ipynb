{
 "cells": [
  {
   "cell_type": "markdown",
   "metadata": {},
   "source": [
    "# (CTC-17) Projeto de Buscas\n",
    "---"
   ]
  },
  {
   "source": [
    "## Parâmetros Editáveis da Busca"
   ],
   "cell_type": "markdown",
   "metadata": {}
  },
  {
   "cell_type": "code",
   "execution_count": 94,
   "metadata": {},
   "outputs": [],
   "source": [
    "# Nesta célula, há 3 variáveis que armazenam os parâmetros da busca (conforme especificado no roteiro):\n",
    "#   file_name   => nome do arquivo de dados\n",
    "#   source      => cidade de origem na busca\n",
    "#   destination => cidade de destino na busca\n",
    "\n",
    "# string com o nome (endereço) do arquivo de dados.\n",
    "file_name = 'australia.csv'\n",
    "\n",
    "# source e destination => podem ser string ou int\n",
    "\n",
    "# Nome das cidades (string)\n",
    "source = 'Alice Springs'\n",
    "destination = 'Yulara'\n",
    "\n",
    "# Id das cidades (int)\n",
    "# source = 5\n",
    "# destination = 219\n"
   ]
  },
  {
   "source": [
    "## Dependências"
   ],
   "cell_type": "markdown",
   "metadata": {}
  },
  {
   "cell_type": "code",
   "execution_count": 95,
   "metadata": {},
   "outputs": [],
   "source": [
    "import random\n",
    "import pandas as pd\n",
    "import heapq as heap\n",
    "from math import sqrt\n",
    "from tqdm import tqdm"
   ]
  },
  {
   "cell_type": "markdown",
   "metadata": {},
   "source": [
    "## Importando os dados"
   ]
  },
  {
   "cell_type": "code",
   "execution_count": 96,
   "metadata": {},
   "outputs": [
    {
     "output_type": "execute_result",
     "data": {
      "text/plain": "      id            city        lat         lng\n0      1        Adelaide -34.928661  138.598633\n1      2  Adelaide River -13.239430  131.107330\n2      3          Albany -35.003101  117.865952\n3      4          Albury -36.074823  146.924006\n4      5   Alice Springs -23.697479  133.883621\n..   ...             ...        ...         ...\n214  215         Woomera -31.199810  136.832581\n215  216           Yamba -29.435450  153.360306\n216  217         Yeppoon -23.126829  150.744064\n217  218           Young -34.313499  148.301071\n218  219          Yulara -25.245291  130.980545\n\n[219 rows x 4 columns]",
      "text/html": "<div>\n<style scoped>\n    .dataframe tbody tr th:only-of-type {\n        vertical-align: middle;\n    }\n\n    .dataframe tbody tr th {\n        vertical-align: top;\n    }\n\n    .dataframe thead th {\n        text-align: right;\n    }\n</style>\n<table border=\"1\" class=\"dataframe\">\n  <thead>\n    <tr style=\"text-align: right;\">\n      <th></th>\n      <th>id</th>\n      <th>city</th>\n      <th>lat</th>\n      <th>lng</th>\n    </tr>\n  </thead>\n  <tbody>\n    <tr>\n      <th>0</th>\n      <td>1</td>\n      <td>Adelaide</td>\n      <td>-34.928661</td>\n      <td>138.598633</td>\n    </tr>\n    <tr>\n      <th>1</th>\n      <td>2</td>\n      <td>Adelaide River</td>\n      <td>-13.239430</td>\n      <td>131.107330</td>\n    </tr>\n    <tr>\n      <th>2</th>\n      <td>3</td>\n      <td>Albany</td>\n      <td>-35.003101</td>\n      <td>117.865952</td>\n    </tr>\n    <tr>\n      <th>3</th>\n      <td>4</td>\n      <td>Albury</td>\n      <td>-36.074823</td>\n      <td>146.924006</td>\n    </tr>\n    <tr>\n      <th>4</th>\n      <td>5</td>\n      <td>Alice Springs</td>\n      <td>-23.697479</td>\n      <td>133.883621</td>\n    </tr>\n    <tr>\n      <th>...</th>\n      <td>...</td>\n      <td>...</td>\n      <td>...</td>\n      <td>...</td>\n    </tr>\n    <tr>\n      <th>214</th>\n      <td>215</td>\n      <td>Woomera</td>\n      <td>-31.199810</td>\n      <td>136.832581</td>\n    </tr>\n    <tr>\n      <th>215</th>\n      <td>216</td>\n      <td>Yamba</td>\n      <td>-29.435450</td>\n      <td>153.360306</td>\n    </tr>\n    <tr>\n      <th>216</th>\n      <td>217</td>\n      <td>Yeppoon</td>\n      <td>-23.126829</td>\n      <td>150.744064</td>\n    </tr>\n    <tr>\n      <th>217</th>\n      <td>218</td>\n      <td>Young</td>\n      <td>-34.313499</td>\n      <td>148.301071</td>\n    </tr>\n    <tr>\n      <th>218</th>\n      <td>219</td>\n      <td>Yulara</td>\n      <td>-25.245291</td>\n      <td>130.980545</td>\n    </tr>\n  </tbody>\n</table>\n<p>219 rows × 4 columns</p>\n</div>"
     },
     "metadata": {},
     "execution_count": 96
    }
   ],
   "source": [
    "# Import\n",
    "australia = pd.read_csv(file_name, sep = \",\")\n",
    "# Cleaning\n",
    "australia = australia[['id', 'city', 'lat', 'lng']]\n",
    "# Printing\n",
    "australia"
   ]
  },
  {
   "cell_type": "markdown",
   "metadata": {},
   "source": [
    "## Pré-Game"
   ]
  },
  {
   "cell_type": "markdown",
   "metadata": {},
   "source": [
    "### Estrutura de Dados"
   ]
  },
  {
   "cell_type": "code",
   "execution_count": 97,
   "metadata": {},
   "outputs": [],
   "source": [
    "class City:\n",
    "    def __init__(self, id, name, lat, lng):\n",
    "        self.id = id\n",
    "        self.name = name\n",
    "        self.lat = lat\n",
    "        self.lng = lng\n",
    "        self.roads = set()\n",
    "        self.weight = None\n",
    "\n",
    "    def successors(self):\n",
    "        for road in self.roads:\n",
    "            yield road.city, road.length\n",
    "\n",
    "    def __str__(self):\n",
    "        return '<City id={} name=\\'{}\\' weight={:g} pos=({:g}, {:g}) #roads={}>'.format(\n",
    "            self.id, self.name, self.weight, self.lat,      self.lng, len(self.roads)\n",
    "        )\n",
    "    \n",
    "        \n",
    "class Road:\n",
    "    def __init__(self, city, length):\n",
    "        self.city = city\n",
    "        self.length = length\n",
    "        \n",
    "def add_road_between(city1, city2):\n",
    "    # 1.1 => a distância real é 10% maior\n",
    "    distance = 1.1 * sqrt((city1.lat - city2.lat)**2 + (city1.lng - city2.lng)**2)\n",
    "    # city1 -> city2 (relação é simétrica)\n",
    "    road1 = Road(city2, distance)\n",
    "    city1.roads.add(road1)\n",
    "    # city2 -> city1 (relação é simétrica)\n",
    "    road2 = Road(city1, distance)\n",
    "    city2.roads.add(road2)"
   ]
  },
  {
   "cell_type": "markdown",
   "metadata": {},
   "source": [
    "### Preenchendo a estrutura de dados"
   ]
  },
  {
   "cell_type": "code",
   "execution_count": 98,
   "metadata": {},
   "outputs": [],
   "source": [
    "cities = [None] # None é só para preencher o id = 0 (outra alternativa seria trabalhar com `índice - 1`)\n",
    "\n",
    "# Cities\n",
    "for index, row in australia.iterrows():\n",
    "    city = City(row['id'], row['city'], row['lat'], row['lng'])\n",
    "    cities.append(city)\n",
    "    \n",
    "# Roads\n",
    "for city in cities:\n",
    "    if city:\n",
    "        if city.id % 2 == 0:\n",
    "            # Road to (x - 1)\n",
    "            add_road_between(city, cities[city.id - 1])\n",
    "            \n",
    "            # Road to (x + 2) if it exists\n",
    "            if city.id + 2 < len(cities):\n",
    "                add_road_between(city, cities[city.id + 2])\n",
    "                \n",
    "        elif city.id > 2:\n",
    "            # Road to (x - 2)\n",
    "            add_road_between(city, cities[city.id - 2])\n",
    "            \n",
    "            # Road to (x + 1) if it exists\n",
    "            if city.id + 1 < len(cities):\n",
    "                add_road_between(city, cities[city.id + 1])"
   ]
  },
  {
   "cell_type": "markdown",
   "metadata": {},
   "source": [
    "## Algoritmo de Busca"
   ]
  },
  {
   "source": [
    "### Adiciona informação (Busca Informada)"
   ],
   "cell_type": "markdown",
   "metadata": {}
  },
  {
   "cell_type": "code",
   "execution_count": 99,
   "metadata": {},
   "outputs": [],
   "source": [
    "# Calcula as distâncias das cidades até o destino (em linha reta) \n",
    "# Esta será a heurística para o algoritmo A*\n",
    "\n",
    "# Encontra o nó da cidade destino\n",
    "if type(destination) == str:\n",
    "    for city in cities:\n",
    "        if city and city.name == destination:\n",
    "            dest_city = city\n",
    "            break\n",
    "        dest_city = None\n",
    "else:\n",
    "    for city in cities:\n",
    "        if city and city.id == destination:\n",
    "            dest_city = city\n",
    "            break\n",
    "        dest_city = None\n",
    "        \n",
    "\n",
    "# Encontra o nó da cidade fonte\n",
    "if type(source) == str:\n",
    "    for city in cities:\n",
    "        if city and city.name == source:\n",
    "            src_city = city\n",
    "            break\n",
    "        src_city = None\n",
    "else:\n",
    "    for city in cities:\n",
    "        if city and city.id == source:\n",
    "            src_city = city\n",
    "            break\n",
    "        src_city = None\n",
    "\n",
    "if dest_city == None or src_city == None:\n",
    "    print('Cidades não encontradas')\n",
    "\n",
    "\n",
    "# Para cada distância seta o peso como a distância em linha reta até a cidade destino\n",
    "for city in cities:\n",
    "    if city:\n",
    "        city.weight = sqrt((city.lat - dest_city.lat)**2 + (city.lng - dest_city.lng)**2)"
   ]
  },
  {
   "cell_type": "code",
   "execution_count": 100,
   "metadata": {
    "tags": []
   },
   "outputs": [
    {
     "output_type": "stream",
     "name": "stdout",
     "text": "Cidade de Origem:   &lt;City id=5 name=&#39;Alice Springs&#39; weight=3.28992 pos=(-23.6975, 133.884) #roads=4&gt;\nCidade de Destino:  &lt;City id=219 name=&#39;Yulara&#39; weight=0 pos=(-25.2453, 130.981) #roads=1&gt;\n\nConferindo 5 exemplos de cidade:\n&lt;City id=219 name=&#39;Yulara&#39; weight=0 pos=(-25.2453, 130.981) #roads=1&gt;\n&lt;City id=36 name=&#39;Byron Bay&#39; weight=22.8849 pos=(-28.642, 153.612) #roads=4&gt;\n&lt;City id=123 name=&#39;Mildura&#39; weight=14.3166 pos=(-34.1855, 142.163) #roads=4&gt;\n&lt;City id=138 name=&#39;Norseman&#39; weight=11.533 pos=(-32.1977, 121.779) #roads=4&gt;\n&lt;City id=130 name=&#39;Mount Magnet&#39; weight=13.4308 pos=(-28.0648, 117.849) #roads=4&gt;\n"
    }
   ],
   "source": [
    "# Checando as cidades de origem e de destino\n",
    "print('Cidade de Origem:  ', src_city)\n",
    "print('Cidade de Destino: ', dest_city)\n",
    "\n",
    "# Checando 5 cidades aleatoriamente\n",
    "print('\\nConferindo 5 exemplos de cidade:')\n",
    "for city in random.sample(cities, 5):\n",
    "    print(city)"
   ]
  },
  {
   "cell_type": "markdown",
   "metadata": {},
   "source": [
    "### Algoritmo A*"
   ]
  },
  {
   "cell_type": "code",
   "execution_count": 101,
   "metadata": {},
   "outputs": [],
   "source": [
    "# Implementação do algoritmo A*, baseado no pseudo-código e descrições apresentadas nas aulas de teoria\n",
    "# Notação: f(n) = g(n) + h(n)\n",
    "#   f(n) => função de avaliação\n",
    "#   g(n) => custo (real) da trajetória até nó n (inclusive)\n",
    "#   h(n) => heurística do custo até o estado objetivo (atributo weight de City)\n",
    "\n",
    "# Essa classe representa um nó expandido na busca.\n",
    "# Há uma referência ao nó pai (que o expandiu), assim é possível reconstruir a trajetória.\n",
    "# O operador de comparação é necessário para a fila de prioridades (usamos f_value na comparação).\n",
    "class Node:\n",
    "    def __init__(self, f_value, g_value, element, parent):\n",
    "        self.f_value = f_value\n",
    "        self.g_value = g_value\n",
    "        self.element = element\n",
    "        self.parent = parent\n",
    "\n",
    "    def __lt__(self, other):\n",
    "        if self.f_value != other.f_value:\n",
    "            return self.f_value < other.f_value\n",
    "        else:\n",
    "            return self.element.id < other.element.id\n",
    "\n",
    "# Função que efetua a busca usando o algoritmo A*\n",
    "# initial_state: estado inicial (cidade de origem)\n",
    "# goal_test: função que checa se o estado é o objetivo\n",
    "def astar_search(initial_state, goal_test, max_iterations = 1000):\n",
    "    # Para diminuir o número de nós expandidos, salvamos as cidades já visitadas\n",
    "    expanded = set()\n",
    "\n",
    "    # Inicializando a heap de minimo\n",
    "    pq = [Node(initial_state.weight, 0, initial_state, None)]\n",
    "    heap.heapify(pq)\n",
    "\n",
    "    for _ in tqdm(range(max_iterations)):\n",
    "        # não há caminho\n",
    "        if len(pq) == 0:\n",
    "            return None\n",
    "\n",
    "        # extraindo o nó de menor avaliação para expansão\n",
    "        curr = heap.heappop(pq)\n",
    "\n",
    "        # verificando se a cidade já foi expandida\n",
    "        if curr.element in expanded:\n",
    "            continue\n",
    "        else:\n",
    "            expanded.add(curr.element)\n",
    "\n",
    "        # encontrou o objetivo?\n",
    "        if goal_test(curr.element):\n",
    "            return curr\n",
    "\n",
    "        # expandindo o nó (iterando sobre todos os sucessores da cidade)\n",
    "        # price é o custo da transição\n",
    "        for succ, price in curr.element.successors():\n",
    "            # evitando adicionar à heap cidades já expandidas\n",
    "            if succ in expanded:\n",
    "                continue\n",
    "\n",
    "            # computando f(n') e g(n')\n",
    "            new_g_value = (curr.g_value + price)\n",
    "            new_f_value = new_g_value + succ.weight\n",
    "\n",
    "            # inserindo novo nó na heap\n",
    "            heap.heappush(pq, Node(new_f_value, new_g_value, succ, curr))"
   ]
  },
  {
   "cell_type": "code",
   "execution_count": 102,
   "metadata": {
    "tags": []
   },
   "outputs": [
    {
     "output_type": "stream",
     "name": "stderr",
     "text": " 43%|████▎     | 432/1000 [00:00&lt;00:00, 265058.42it/s]\n\nCidade Final:  &lt;City id=219 name=&#39;Yulara&#39; weight=0 pos=(-25.2453, 130.981) #roads=1&gt;\n\n"
    }
   ],
   "source": [
    "def goal_test(city):\n",
    "    return city == dest_city\n",
    "\n",
    "solution_node = astar_search(src_city, goal_test)\n",
    "\n",
    "print('\\n\\nCidade Final: ', solution_node.element)"
   ]
  },
  {
   "cell_type": "markdown",
   "metadata": {},
   "source": [
    "## Resultado"
   ]
  },
  {
   "cell_type": "code",
   "execution_count": 103,
   "metadata": {
    "tags": []
   },
   "outputs": [
    {
     "output_type": "stream",
     "name": "stdout",
     "text": "LENGTH: 124\nCOST: 1647.34\nTRAJECTORY:\n  0) [START] Alice Springs\n  1) Alice Springs -&gt; Andamooka\n  2) Andamooka -&gt; Armidale\n  3) Armidale -&gt; Ayr\n  4) Ayr -&gt; Ballarat\n  5) Ballarat -&gt; Bairnsdale East\n  6) Bairnsdale East -&gt; Ballina\n  7) Ballina -&gt; Batemans Bay\n  8) Batemans Bay -&gt; Bathurst\n  9) Bathurst -&gt; Bendigo\n 10) Bendigo -&gt; Bicheno\n 11) Bicheno -&gt; Birdsville\n 12) Birdsville -&gt; Bordertown\n 13) Bordertown -&gt; Bourke\n 14) Bourke -&gt; Brisbane\n 15) Brisbane -&gt; Broome\n 16) Broome -&gt; Bundaberg\n 17) Bundaberg -&gt; Burnie\n 18) Burnie -&gt; Byron Bay\n 19) Byron Bay -&gt; Cairns\n 20) Cairns -&gt; Caboolture\n 21) Caboolture -&gt; Caloundra\n 22) Caloundra -&gt; Canberra\n 23) Canberra -&gt; Ceduna\n 24) Ceduna -&gt; Charleville\n 25) Charleville -&gt; Clare\n 26) Clare -&gt; Cobram\n 27) Cobram -&gt; Colac\n 28) Colac -&gt; Cowell\n 29) Cowell -&gt; Cranbourne\n 30) Cranbourne -&gt; Dalby\n 31) Dalby -&gt; Deniliquin\n 32) Deniliquin -&gt; Dubbo\n 33) Dubbo -&gt; East Maitland\n 34) East Maitland -&gt; Eidsvold\n 35) Eidsvold -&gt; Esperance\n 36) Esperance -&gt; Forbes\n 37) Forbes -&gt; Gawler\n 38) Gawler -&gt; Georgetown\n 39) Georgetown -&gt; Gingin\n 40) Gingin -&gt; Geraldton\n 41) Geraldton -&gt; Gladstone\n 42) Gladstone -&gt; Goondiwindi\n 43) Goondiwindi -&gt; Griffith\n 44) Griffith -&gt; Gympie South\n 45) Gympie South -&gt; Hamilton\n 46) Hamilton -&gt; Hobart\n 47) Hobart -&gt; Hughenden\n 48) Hughenden -&gt; Inverell\n 49) Inverell -&gt; Kalbarri\n 50) Kalbarri -&gt; Karratha\n 51) Karratha -&gt; Katanning\n 52) Katanning -&gt; Katoomba\n 53) Katoomba -&gt; Kiama\n 54) Kiama -&gt; Kimba\n 55) Kimba -&gt; Kingoonya\n 56) Kingoonya -&gt; Kingston South East\n 57) Kingston South East -&gt; Kwinana\n 58) Kwinana -&gt; Laverton\n 59) Laverton -&gt; Leonora\n 60) Leonora -&gt; Longreach\n 61) Longreach -&gt; Manjimup\n 62) Manjimup -&gt; Maryborough\n 63) Maryborough -&gt; Meekatharra\n 64) Meekatharra -&gt; Melton\n 65) Melton -&gt; Melbourne\n 66) Melbourne -&gt; Meningie\n 67) Meningie -&gt; Mildura\n 68) Mildura -&gt; Morawa\n 69) Morawa -&gt; Mount Barker\n 70) Mount Barker -&gt; Mount Isa\n 71) Mount Isa -&gt; Mudgee\n 72) Mudgee -&gt; Muswellbrook\n 73) Muswellbrook -&gt; Narrabri West\n 74) Narrabri West -&gt; Newcastle\n 75) Newcastle -&gt; Norseman\n 76) Norseman -&gt; North Mackay\n 77) North Mackay -&gt; North Lismore\n 78) North Lismore -&gt; North Scottsdale\n 79) North Scottsdale -&gt; Nowra\n 80) Nowra -&gt; Oatlands\n 81) Oatlands -&gt; Orange\n 82) Orange -&gt; Pambula\n 83) Pambula -&gt; Parkes\n 84) Parkes -&gt; Perth\n 85) Perth -&gt; Penola\n 86) Penola -&gt; Peterborough\n 87) Peterborough -&gt; Port Augusta West\n 88) Port Augusta West -&gt; Port Douglas\n 89) Port Douglas -&gt; Port Lincoln\n 90) Port Lincoln -&gt; Port Pirie\n 91) Port Pirie -&gt; Portland\n 92) Portland -&gt; Queanbeyan\n 93) Queanbeyan -&gt; Quilpie\n 94) Quilpie -&gt; Richmond\n 95) Richmond -&gt; Rockhampton\n 96) Rockhampton -&gt; Roma\n 97) Roma -&gt; Scone\n 98) Scone -&gt; Shepparton\n 99) Shepparton -&gt; Seymour\n100) Seymour -&gt; Singleton\n101) Singleton -&gt; South Grafton\n102) South Grafton -&gt; South Melbourne\n103) South Melbourne -&gt; Stawell\n104) Stawell -&gt; Sunbury\n105) Sunbury -&gt; Sydney\n106) Sydney -&gt; Thargomindah\n107) Thargomindah -&gt; Three Springs\n108) Three Springs -&gt; Toowoomba\n109) Toowoomba -&gt; Traralgon\n110) Traralgon -&gt; Tumut\n111) Tumut -&gt; Ulladulla\n112) Ulladulla -&gt; Wagga Wagga\n113) Wagga Wagga -&gt; Wallaroo\n114) Wallaroo -&gt; Wangaratta\n115) Wangaratta -&gt; Warwick\n116) Warwick -&gt; West Tamworth\n117) West Tamworth -&gt; Wilcannia\n118) Wilcannia -&gt; Winton\n119) Winton -&gt; Windorah\n120) Windorah -&gt; Wollongong\n121) Wollongong -&gt; Woomera\n122) Woomera -&gt; Yeppoon\n123) Yeppoon -&gt; Yulara\n124) Yulara [THE END]\n"
    }
   ],
   "source": [
    "# extraindo a trajetória percorrida \n",
    "path = []\n",
    "\n",
    "# percorrendo a lista encadeada de nós, a partir do destino\n",
    "# até a origem, por meio do campo parent de Node.\n",
    "aux_node = solution_node\n",
    "while aux_node is not None:\n",
    "    path.append(aux_node.element)\n",
    "    aux_node = aux_node.parent\n",
    "path.reverse()\n",
    "\n",
    "# Resultados da solução obtida:\n",
    "\n",
    "print('LENGTH: {}'.format(len(path)))\n",
    "print('COST: {:g}'.format(solution_node.f_value))\n",
    "print('TRAJECTORY:')\n",
    "\n",
    "print('{:3d}) [START] {}'.format(0, path[0].name))\n",
    "for i in range(len(path)):\n",
    "    if i == len(path) - 1:\n",
    "        print('{:3d}) {} [THE END]'.format(i+1, path[i].name))\n",
    "    else:\n",
    "        print('{:3d}) {} -> {}'.format(i+1, path[i].name, path[i+1].name))"
   ]
  },
  {
   "source": [
    "## Testes"
   ],
   "cell_type": "markdown",
   "metadata": {}
  },
  {
   "source": [
    "### Cidades Romenas"
   ],
   "cell_type": "markdown",
   "metadata": {}
  },
  {
   "source": [
    "def add_road_dist(city1, city2, dist):\n",
    "    city1.roads.add(Road(city2, dist))\n",
    "    city2.roads.add(Road(city1, dist))\n",
    "\n",
    "# Cidades\n",
    "\n",
    "cities = []\n",
    "\n",
    "c1 = City(1, 'Oradea', 0, 0)\n",
    "c1.weight = 380\n",
    "cities.append(c1)\n",
    "\n",
    "c2 = City(2, 'Zerind', 0, 0)\n",
    "c2.weight = 374\n",
    "cities.append(c2)\n",
    "\n",
    "c3 = City(3, 'Arad', 0, 0)\n",
    "c3.weight = 366\n",
    "cities.append(c3)\n",
    "\n",
    "c4 = City(4, 'Sibiu', 0, 0)\n",
    "c4.weight = 253\n",
    "cities.append(c4)\n",
    "\n",
    "c5 = City(5, 'Fagaras', 0, 0)\n",
    "c5.weight = 178\n",
    "cities.append(c5)\n",
    "\n",
    "c6 = City(6, 'Timisoara', 0, 0)\n",
    "c6.weight = 329\n",
    "cities.append(c6)\n",
    "\n",
    "c7 = City(7, 'Lugoj', 0, 0)\n",
    "c7.weight = 244\n",
    "cities.append(c7)\n",
    "\n",
    "c8 = City(8, 'Rimnicu Vilcea', 0, 0)\n",
    "c8.weight = 193\n",
    "cities.append(c8)\n",
    "\n",
    "c9 = City(9, 'Mehadia', 0, 0)\n",
    "c9.weight = 241\n",
    "cities.append(c9)\n",
    "\n",
    "c10 = City(10, 'Pitesti', 0, 0)\n",
    "c10.weight = 98\n",
    "cities.append(c10)\n",
    "\n",
    "c11 = City(11, 'Dobreta', 0, 0)\n",
    "c11.weight = 242\n",
    "cities.append(c11)\n",
    "\n",
    "c12 = City(12, 'Craiova', 0, 0)\n",
    "c12.weight = 160\n",
    "cities.append(c12)\n",
    "\n",
    "c13 = City(13, 'Bucharest', 0, 0)\n",
    "c13.weight = 0\n",
    "cities.append(c13)\n",
    "\n",
    "c14 = City(14, 'Giurgiu', 0, 0)\n",
    "c14.weight = 77\n",
    "cities.append(c14)\n",
    "\n",
    "c15 = City(15, 'Urziceni', 0, 0)\n",
    "c15.weight = 80\n",
    "cities.append(c15)\n",
    "\n",
    "c16 = City(16, 'Hirsova', 0, 0)\n",
    "c16.weight = 151\n",
    "cities.append(c16)\n",
    "\n",
    "c17 = City(17, 'Eforie', 0, 0)\n",
    "c17.weight = 161\n",
    "cities.append(c17)\n",
    "\n",
    "c18 = City(18, 'Vaslui', 0, 0)\n",
    "c18.weight = 199\n",
    "cities.append(c18)\n",
    "\n",
    "c19 = City(19, 'Iasi', 0, 0)\n",
    "c19.weight = 226\n",
    "cities.append(c19)\n",
    "\n",
    "c20 = City(20, 'Neamt', 0, 0)\n",
    "c20.weight = 234\n",
    "cities.append(c20)\n",
    "\n",
    "# Estradas\n",
    "\n",
    "add_road_dist(c1, c2, 71)\n",
    "add_road_dist(c1, c4, 151)\n",
    "add_road_dist(c2, c3, 75)\n",
    "add_road_dist(c3, c4, 140)\n",
    "\n",
    "add_road_dist(c3, c6, 118)\n",
    "add_road_dist(c4, c5, 99)\n",
    "add_road_dist(c4, c6, 80)\n",
    "add_road_dist(c6, c7, 111)\n",
    "\n",
    "add_road_dist(c7, c9, 70)\n",
    "add_road_dist(c9, c11, 75)\n",
    "add_road_dist(c11, c12, 120)\n",
    "\n",
    "add_road_dist(c8, c12, 146)\n",
    "add_road_dist(c8, c10, 97)\n",
    "add_road_dist(c12, c10, 138)\n",
    "\n",
    "add_road_dist(c5, c13, 211)\n",
    "add_road_dist(c10, c13, 101)\n",
    "add_road_dist(c14, c13, 90)\n",
    "add_road_dist(c13, c15, 85)\n",
    "\n",
    "add_road_dist(c15, c16, 98)\n",
    "add_road_dist(c16, c17, 86)\n",
    "\n",
    "add_road_dist(c13, c18, 142)\n",
    "add_road_dist(c18, c19, 92)\n",
    "add_road_dist(c19, c20, 87)\n",
    "\n",
    "result = astar_search(c3, lambda city: city == c13)\n",
    "print('\\n\\nCidade Final: ', result.element)\n",
    "print('Preco: ', result.f_value, '\\n')\n",
    "\n",
    "aux_node = result\n",
    "while aux_node is not None:\n",
    "    print(aux_node.element)\n",
    "    aux_node = aux_node.parent\n"
   ],
   "cell_type": "code",
   "metadata": {
    "tags": []
   },
   "execution_count": 104,
   "outputs": [
    {
     "output_type": "stream",
     "name": "stderr",
     "text": "  0%|          | 5/1000 [00:00&lt;00:00, 32214.32it/s]\n\nCidade Final:  &lt;City id=13 name=&#39;Bucharest&#39; weight=0 pos=(0, 0) #roads=5&gt;\nPreco:  450 \n\n&lt;City id=13 name=&#39;Bucharest&#39; weight=0 pos=(0, 0) #roads=5&gt;\n&lt;City id=5 name=&#39;Fagaras&#39; weight=178 pos=(0, 0) #roads=2&gt;\n&lt;City id=4 name=&#39;Sibiu&#39; weight=253 pos=(0, 0) #roads=4&gt;\n&lt;City id=3 name=&#39;Arad&#39; weight=366 pos=(0, 0) #roads=3&gt;\n\n"
    }
   ]
  }
 ],
 "metadata": {
  "kernelspec": {
   "display_name": "Python 3",
   "language": "python",
   "name": "python3"
  },
  "language_info": {
   "codemirror_mode": {
    "name": "ipython",
    "version": 3
   },
   "file_extension": ".py",
   "mimetype": "text/x-python",
   "name": "python",
   "nbconvert_exporter": "python",
   "pygments_lexer": "ipython3",
   "version": "3.8.2-final"
  }
 },
 "nbformat": 4,
 "nbformat_minor": 4
}