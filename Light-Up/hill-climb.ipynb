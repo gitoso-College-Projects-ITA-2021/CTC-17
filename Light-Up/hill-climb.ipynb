{
 "cells": [
  {
   "cell_type": "markdown",
   "metadata": {},
   "source": [
    "# (CTC-17) Projeto de Buscas\n",
    "---"
   ]
  },
  {
   "cell_type": "markdown",
   "metadata": {},
   "source": [
    "## Dependências"
   ]
  },
  {
   "cell_type": "code",
   "execution_count": 84,
   "metadata": {},
   "outputs": [],
   "source": [
    "import numpy as np\n",
    "import random\n",
    "import time\n",
    "from copy import copy, deepcopy"
   ]
  },
  {
   "cell_type": "markdown",
   "metadata": {},
   "source": [
    "## Importando os dados"
   ]
  },
  {
   "cell_type": "code",
   "execution_count": 85,
   "metadata": {
    "tags": []
   },
   "outputs": [
    {
     "output_type": "stream",
     "name": "stdout",
     "text": "[[&#39;-&#39; &#39;-&#39; &#39;1&#39; &#39;-&#39; &#39;-&#39; &#39;-&#39; &#39;-&#39;]\n [&#39;-&#39; &#39;-&#39; &#39;-&#39; &#39;0&#39; &#39;X&#39; &#39;-&#39; &#39;-&#39;]\n [&#39;-&#39; &#39;0&#39; &#39;-&#39; &#39;-&#39; &#39;-&#39; &#39;-&#39; &#39;2&#39;]\n [&#39;-&#39; &#39;0&#39; &#39;-&#39; &#39;X&#39; &#39;-&#39; &#39;X&#39; &#39;-&#39;]\n [&#39;X&#39; &#39;-&#39; &#39;-&#39; &#39;-&#39; &#39;-&#39; &#39;1&#39; &#39;-&#39;]\n [&#39;-&#39; &#39;-&#39; &#39;3&#39; &#39;1&#39; &#39;-&#39; &#39;-&#39; &#39;-&#39;]\n [&#39;-&#39; &#39;-&#39; &#39;-&#39; &#39;-&#39; &#39;X&#39; &#39;-&#39; &#39;-&#39;]]\n"
    }
   ],
   "source": [
    "game = np.loadtxt(\"./games/game1.txt\", dtype='str', delimiter=' ')\n",
    "print(game)"
   ]
  },
  {
   "cell_type": "markdown",
   "metadata": {},
   "source": [
    "## Pré-Game"
   ]
  },
  {
   "cell_type": "code",
   "execution_count": 86,
   "metadata": {},
   "outputs": [],
   "source": [
    "class Number():\n",
    "    def __init__(self, pos, number):\n",
    "        self.pos = pos\n",
    "        self.n = number\n",
    "\n",
    "class State():\n",
    "    def __init__(self, game):\n",
    "        self.state = copy(game)\n",
    "        self.score = 0\n",
    "        self.lamps = list()\n",
    "        self.criticalLamps = list()\n",
    "        self.numbers = list()\n",
    "        self.enemyLamps = 0\n",
    "        self.darkSpots = 0\n",
    "        self.size = len(game)\n",
    "\n",
    "        ## Set lamps initial positions\n",
    "        for j in range (self.size):\n",
    "            freePositions = 0\n",
    "            for i in range (self.size): \n",
    "                if self.state[i][j] == '-': \n",
    "                    freePositions += 1\n",
    "                else:\n",
    "                    if freePositions > 0:\n",
    "                        ## Set lamp on random position\n",
    "                        l = random.randrange(i - freePositions, i)\n",
    "                        self.lamps.append((l, j))\n",
    "                        freePositions = 0\n",
    "                    \n",
    "                    ## If it is a number\n",
    "                    if self.state[i][j] != '-' and self.state[i][j] != 'X':\n",
    "                        self.numbers.append( Number( (i, j), int( self.state[i][j] ) ) )\n",
    "\n",
    "            if freePositions > 0:\n",
    "                l = random.randrange(self.size - freePositions, self.size)\n",
    "                self.lamps.append((l, j))\n",
    "        \n",
    "        ## Change State\n",
    "        for l in self.lamps:\n",
    "            self.state[l[0]][l[1]] = 'L'\n",
    "\n",
    "        '''enemy = 0\n",
    "        for i in range (7):\n",
    "            lamps = 0\n",
    "            for j in range (7):\n",
    "                ## lamp found\n",
    "                if self.state[i][j] == 'L': \n",
    "                    if lamps != 0:\n",
    "                        enemy += 1\n",
    "                    lamps = 1\n",
    "                ## wall found\n",
    "                elif self.state[i][j] != 'L' and self.state[i][j] != '-':\n",
    "                     lamps = 0\n",
    "        self.enemyLamps = enemy'''\n",
    "\n",
    "        ## Critical Lamps\n",
    "        direction = [(1, 0), (-1, 0), (0, 1), (0, -1)]\n",
    "        for numb in self.numbers:\n",
    "            if numb.n is 0:\n",
    "                i, j = numb.pos\n",
    "                for di in direction:\n",
    "                    ii = i + di[0]\n",
    "                    jj = j + di[1]\n",
    "                    if ii > -1 and ii < self.size and jj > -1 and jj < self.size and self.state[ii][jj] == 'L':\n",
    "                        self.criticalLamps.append((ii, jj))\n",
    "\n",
    "        self.evaluateScore()\n",
    "    \n",
    "    def evaluateScore(self):\n",
    "        # Lamps that see each other \n",
    "        enemyLamps = 0\n",
    "        for i in range (self.size):\n",
    "            lamps = 0\n",
    "            for j in range (self.size):\n",
    "                ## lamp found\n",
    "                if self.state[i][j] == 'L': \n",
    "                    if lamps != 0:\n",
    "                        enemyLamps += 1\n",
    "                    lamps = 1\n",
    "                ## wall found\n",
    "                elif self.state[i][j] != 'L' and self.state[i][j] != '-':\n",
    "                     lamps = 0\n",
    "        \n",
    "        # Not illuminated spots\n",
    "        darkSpots = set()\n",
    "        for i in range(self.size):\n",
    "            for j in range(self.size):\n",
    "                if self.state[i][j] == '-':\n",
    "                    darkSpots.add((i, j))\n",
    "\n",
    "        for lamp in self.lamps:\n",
    "            # Search in column\n",
    "            for i in range(lamp[0] + 1, self.size):\n",
    "                if self.state[i][lamp[1]] == '-':\n",
    "                    if (i, lamp[1]) in darkSpots:\n",
    "                        darkSpots.remove((i, lamp[1]))\n",
    "                else:\n",
    "                    break\n",
    "\n",
    "            for i in range(lamp[0] - 1, -1, -1):\n",
    "                if self.state[i][lamp[1]] == '-':\n",
    "                    if (i, lamp[1]) in darkSpots:\n",
    "                        darkSpots.remove((i, lamp[1]))\n",
    "                else:\n",
    "                    break\n",
    "            \n",
    "            # Search in line\n",
    "            for j in range(lamp[1] + 1, self.size):\n",
    "                if self.state[lamp[0]][j] == '-':\n",
    "                    if (lamp[0], j) in darkSpots:\n",
    "                        darkSpots.remove((lamp[0], j))\n",
    "                else:\n",
    "                    break\n",
    "\n",
    "            for j in range(lamp[1] - 1, -1, -1):\n",
    "                if self.state[lamp[0]][j] == '-':\n",
    "                    if (lamp[0], j) in darkSpots:\n",
    "                        darkSpots.remove((lamp[0], j))\n",
    "                else:\n",
    "                    break\n",
    "        \n",
    "        # Critical Lamps that are neighbours of number cells.\n",
    "        restrictions = 0\n",
    "        direction = [(1, 0), (-1, 0), (0, 1), (0, -1)]\n",
    "        for numb in self.numbers:\n",
    "            i, j = numb.pos\n",
    "            neighbours = 0\n",
    "            for di in direction:\n",
    "                ii = i + di[0]\n",
    "                jj = j + di[1]\n",
    "                if ii > -1 and ii < self.size and jj > -1 and jj < self.size and self.state[ii][jj] == 'L':\n",
    "                    neighbours += 1\n",
    "                    if numb.n == 0 and (ii, jj) not in self.criticalLamps:\n",
    "                        self.criticalLamps.append((ii, jj))\n",
    "            restrictions += abs(neighbours - numb.n)\n",
    "        \n",
    "        self.score = restrictions*10 + len(darkSpots)*1 + enemyLamps*5\n"
   ]
  },
  {
   "cell_type": "code",
   "execution_count": 87,
   "metadata": {
    "tags": []
   },
   "outputs": [],
   "source": [
    "def generateNextState(current): \n",
    "    nextState = deepcopy(current)\n",
    "\n",
    "    # Select a lamp\n",
    "    if len(nextState.criticalLamps) != 0:\n",
    "        l = random.choice(nextState.criticalLamps)\n",
    "    else:\n",
    "        l = random.choice(nextState.lamps)\n",
    "    ## Greater probability to move Lamp\n",
    "    action = random.randrange(0, 5) \n",
    "\n",
    "    ## Remove Lamp\n",
    "    if action == 0:\n",
    "        nextState.lamps.remove(l)\n",
    "        if l in nextState.criticalLamps:\n",
    "            nextState.criticalLamps.remove(l)\n",
    "        nextState.state[l[0]][l[1]] = '-'\n",
    "        nextState.evaluateScore()\n",
    "    ## Move Lamp\n",
    "    else:\n",
    "        validPositions = list()\n",
    "        for i in range(l[0] + 1, nextState.size):\n",
    "            if nextState.state[i][l[1]] == '-':\n",
    "                validPositions.append((i, l[1]))\n",
    "            else:\n",
    "                break\n",
    "\n",
    "        for i in range(l[0] - 1, -1, -1):\n",
    "            if nextState.state[i][l[1]] == '-':\n",
    "                validPositions.append((i, l[1]))\n",
    "            else:\n",
    "                break\n",
    "\n",
    "        if(len(validPositions) != 0):\n",
    "            newLamp = random.choice(validPositions)\n",
    "            nextState.lamps.remove(l)\n",
    "            if l in nextState.criticalLamps:\n",
    "                nextState.criticalLamps.remove(l)\n",
    "            nextState.state[l[0]][l[1]] = '-'\n",
    "            nextState.lamps.append(newLamp)\n",
    "            nextState.state[newLamp[0]][newLamp[1]] = 'L'\n",
    "            nextState.evaluateScore()\n",
    "\n",
    "    return nextState"
   ]
  },
  {
   "cell_type": "markdown",
   "metadata": {},
   "source": [
    "### HillClimbing"
   ]
  },
  {
   "cell_type": "code",
   "execution_count": 88,
   "metadata": {
    "tags": []
   },
   "outputs": [
    {
     "output_type": "error",
     "ename": "KeyboardInterrupt",
     "evalue": "",
     "traceback": [
      "\u001b[0;31m---------------------------------------------------------------------------\u001b[0m",
      "\u001b[0;31mKeyboardInterrupt\u001b[0m                         Traceback (most recent call last)",
      "\u001b[0;32m&lt;ipython-input-88-aae5837a465d&gt;\u001b[0m in \u001b[0;36m&lt;module&gt;\u001b[0;34m\u001b[0m\n\u001b[1;32m      7\u001b[0m \u001b[0;34m\u001b[0m\u001b[0m\n\u001b[1;32m      8\u001b[0m     \u001b[0;32mwhile\u001b[0m \u001b[0;32mTrue\u001b[0m\u001b[0;34m:\u001b[0m\u001b[0;34m\u001b[0m\u001b[0;34m\u001b[0m\u001b[0m\n\u001b[0;32m----&gt; 9\u001b[0;31m         \u001b[0mnextState\u001b[0m \u001b[0;34m=\u001b[0m \u001b[0mgenerateNextState\u001b[0m\u001b[0;34m(\u001b[0m\u001b[0mcurrent\u001b[0m\u001b[0;34m)\u001b[0m\u001b[0;34m\u001b[0m\u001b[0;34m\u001b[0m\u001b[0m\n\u001b[0m\u001b[1;32m     10\u001b[0m         \u001b[0;32mif\u001b[0m \u001b[0mnextState\u001b[0m\u001b[0;34m.\u001b[0m\u001b[0mscore\u001b[0m \u001b[0;34m==\u001b[0m \u001b[0;36m0\u001b[0m\u001b[0;34m:\u001b[0m\u001b[0;34m\u001b[0m\u001b[0;34m\u001b[0m\u001b[0m\n\u001b[1;32m     11\u001b[0m             \u001b[0;32mbreak\u001b[0m\u001b[0;34m\u001b[0m\u001b[0;34m\u001b[0m\u001b[0m\n",
      "\u001b[0;32m&lt;ipython-input-87-800d3193ed89&gt;\u001b[0m in \u001b[0;36mgenerateNextState\u001b[0;34m(current)\u001b[0m\n\u001b[1;32m     40\u001b[0m             \u001b[0mnextState\u001b[0m\u001b[0;34m.\u001b[0m\u001b[0mlamps\u001b[0m\u001b[0;34m.\u001b[0m\u001b[0mappend\u001b[0m\u001b[0;34m(\u001b[0m\u001b[0mnewLamp\u001b[0m\u001b[0;34m)\u001b[0m\u001b[0;34m\u001b[0m\u001b[0;34m\u001b[0m\u001b[0m\n\u001b[1;32m     41\u001b[0m             \u001b[0mnextState\u001b[0m\u001b[0;34m.\u001b[0m\u001b[0mstate\u001b[0m\u001b[0;34m[\u001b[0m\u001b[0mnewLamp\u001b[0m\u001b[0;34m[\u001b[0m\u001b[0;36m0\u001b[0m\u001b[0;34m]\u001b[0m\u001b[0;34m]\u001b[0m\u001b[0;34m[\u001b[0m\u001b[0mnewLamp\u001b[0m\u001b[0;34m[\u001b[0m\u001b[0;36m1\u001b[0m\u001b[0;34m]\u001b[0m\u001b[0;34m]\u001b[0m \u001b[0;34m=\u001b[0m \u001b[0;34m&#39;L&#39;\u001b[0m\u001b[0;34m\u001b[0m\u001b[0;34m\u001b[0m\u001b[0m\n\u001b[0;32m---&gt; 42\u001b[0;31m             \u001b[0mnextState\u001b[0m\u001b[0;34m.\u001b[0m\u001b[0mevaluateScore\u001b[0m\u001b[0;34m(\u001b[0m\u001b[0;34m)\u001b[0m\u001b[0;34m\u001b[0m\u001b[0;34m\u001b[0m\u001b[0m\n\u001b[0m\u001b[1;32m     43\u001b[0m \u001b[0;34m\u001b[0m\u001b[0m\n\u001b[1;32m     44\u001b[0m     \u001b[0;32mreturn\u001b[0m \u001b[0mnextState\u001b[0m\u001b[0;34m\u001b[0m\u001b[0;34m\u001b[0m\u001b[0m\n",
      "\u001b[0;32m&lt;ipython-input-86-423fcbc5ab4b&gt;\u001b[0m in \u001b[0;36mevaluateScore\u001b[0;34m(self)\u001b[0m\n\u001b[1;32m     92\u001b[0m             \u001b[0;31m# Search in column\u001b[0m\u001b[0;34m\u001b[0m\u001b[0;34m\u001b[0m\u001b[0;34m\u001b[0m\u001b[0m\n\u001b[1;32m     93\u001b[0m             \u001b[0;32mfor\u001b[0m \u001b[0mi\u001b[0m \u001b[0;32min\u001b[0m \u001b[0mrange\u001b[0m\u001b[0;34m(\u001b[0m\u001b[0mlamp\u001b[0m\u001b[0;34m[\u001b[0m\u001b[0;36m0\u001b[0m\u001b[0;34m]\u001b[0m \u001b[0;34m+\u001b[0m \u001b[0;36m1\u001b[0m\u001b[0;34m,\u001b[0m \u001b[0mself\u001b[0m\u001b[0;34m.\u001b[0m\u001b[0msize\u001b[0m\u001b[0;34m)\u001b[0m\u001b[0;34m:\u001b[0m\u001b[0;34m\u001b[0m\u001b[0;34m\u001b[0m\u001b[0m\n\u001b[0;32m---&gt; 94\u001b[0;31m                 \u001b[0;32mif\u001b[0m \u001b[0mself\u001b[0m\u001b[0;34m.\u001b[0m\u001b[0mstate\u001b[0m\u001b[0;34m[\u001b[0m\u001b[0mi\u001b[0m\u001b[0;34m]\u001b[0m\u001b[0;34m[\u001b[0m\u001b[0mlamp\u001b[0m\u001b[0;34m[\u001b[0m\u001b[0;36m1\u001b[0m\u001b[0;34m]\u001b[0m\u001b[0;34m]\u001b[0m \u001b[0;34m==\u001b[0m \u001b[0;34m&#39;-&#39;\u001b[0m\u001b[0;34m:\u001b[0m\u001b[0;34m\u001b[0m\u001b[0;34m\u001b[0m\u001b[0m\n\u001b[0m\u001b[1;32m     95\u001b[0m                     \u001b[0;32mif\u001b[0m \u001b[0;34m(\u001b[0m\u001b[0mi\u001b[0m\u001b[0;34m,\u001b[0m \u001b[0mlamp\u001b[0m\u001b[0;34m[\u001b[0m\u001b[0;36m1\u001b[0m\u001b[0;34m]\u001b[0m\u001b[0;34m)\u001b[0m \u001b[0;32min\u001b[0m \u001b[0mdarkSpots\u001b[0m\u001b[0;34m:\u001b[0m\u001b[0;34m\u001b[0m\u001b[0;34m\u001b[0m\u001b[0m\n\u001b[1;32m     96\u001b[0m                         \u001b[0mdarkSpots\u001b[0m\u001b[0;34m.\u001b[0m\u001b[0mremove\u001b[0m\u001b[0;34m(\u001b[0m\u001b[0;34m(\u001b[0m\u001b[0mi\u001b[0m\u001b[0;34m,\u001b[0m \u001b[0mlamp\u001b[0m\u001b[0;34m[\u001b[0m\u001b[0;36m1\u001b[0m\u001b[0;34m]\u001b[0m\u001b[0;34m)\u001b[0m\u001b[0;34m)\u001b[0m\u001b[0;34m\u001b[0m\u001b[0;34m\u001b[0m\u001b[0m\n",
      "\u001b[0;31mKeyboardInterrupt\u001b[0m: "
     ]
    }
   ],
   "source": [
    "while True:\n",
    "    current = State(game)\n",
    "    plato = 150\n",
    "    print(\"Inicio: score:\", current.score)\n",
    "    #print(current.state)\n",
    "    \n",
    "\n",
    "    while True:\n",
    "        nextState = generateNextState(current)\n",
    "        if nextState.score == 0:\n",
    "            break\n",
    "\n",
    "        if nextState.score < current.score:\n",
    "            current = nextState\n",
    "            #print(\"Melhorou, score:\", current.score)\n",
    "            # print(current.state)\n",
    "            plato = 150\n",
    "        else:\n",
    "            plato -= 1\n",
    "            if plato == 0:\n",
    "                break\n",
    "\n",
    "    print(\"Melhorou, score:\", current.score)\n",
    "    if nextState.score == 0:\n",
    "        print(nextState.state)\n",
    "        break\n"
   ]
  },
  {
   "cell_type": "code",
   "execution_count": null,
   "metadata": {},
   "outputs": [],
   "source": []
  }
 ],
 "metadata": {
  "kernelspec": {
   "display_name": "Python 3",
   "language": "python",
   "name": "python3"
  },
  "language_info": {
   "codemirror_mode": {
    "name": "ipython",
    "version": 3
   },
   "file_extension": ".py",
   "mimetype": "text/x-python",
   "name": "python",
   "nbconvert_exporter": "python",
   "pygments_lexer": "ipython3",
   "version": "3.6.9-final"
  }
 },
 "nbformat": 4,
 "nbformat_minor": 4
}