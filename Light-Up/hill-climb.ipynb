{
 "cells": [
  {
   "cell_type": "markdown",
   "metadata": {},
   "source": [
    "# (CTC-17) Projeto de Buscas\n",
    "---"
   ]
  },
  {
   "cell_type": "markdown",
   "metadata": {},
   "source": [
    "## Dependências"
   ]
  },
  {
   "cell_type": "code",
   "execution_count": 84,
   "metadata": {},
   "outputs": [],
   "source": [
    "import numpy as np\n",
    "import random\n",
    "import time\n",
    "from copy import copy, deepcopy"
   ]
  },
  {
   "cell_type": "markdown",
   "metadata": {},
   "source": [
    "## Importando os dados"
   ]
  },
  {
   "cell_type": "code",
   "execution_count": 85,
   "metadata": {
    "tags": []
   },
   "outputs": [
    {
     "output_type": "stream",
     "name": "stdout",
     "text": "[[&#39;-&#39; &#39;-&#39; &#39;1&#39; &#39;-&#39; &#39;-&#39; &#39;-&#39; &#39;-&#39;]\n [&#39;-&#39; &#39;-&#39; &#39;-&#39; &#39;0&#39; &#39;X&#39; &#39;-&#39; &#39;-&#39;]\n [&#39;-&#39; &#39;0&#39; &#39;-&#39; &#39;-&#39; &#39;-&#39; &#39;-&#39; &#39;2&#39;]\n [&#39;-&#39; &#39;0&#39; &#39;-&#39; &#39;X&#39; &#39;-&#39; &#39;X&#39; &#39;-&#39;]\n [&#39;X&#39; &#39;-&#39; &#39;-&#39; &#39;-&#39; &#39;-&#39; &#39;1&#39; &#39;-&#39;]\n [&#39;-&#39; &#39;-&#39; &#39;3&#39; &#39;1&#39; &#39;-&#39; &#39;-&#39; &#39;-&#39;]\n [&#39;-&#39; &#39;-&#39; &#39;-&#39; &#39;-&#39; &#39;X&#39; &#39;-&#39; &#39;-&#39;]]\n"
    }
   ],
   "source": [
    "game = np.loadtxt(\"./games/game1.txt\", dtype='str', delimiter=' ')\n",
    "print(game)"
   ]
  },
  {
   "cell_type": "markdown",
   "metadata": {},
   "source": [
    "## Pré-Game"
   ]
  },
  {
   "cell_type": "code",
   "execution_count": 86,
   "metadata": {},
   "outputs": [],
   "source": [
    "class Number():\n",
    "    def __init__(self, pos, number):\n",
    "        self.pos = pos\n",
    "        self.n = number\n",
    "\n",
    "class State():\n",
    "    def __init__(self, game):\n",
    "        self.state = copy(game)\n",
    "        self.score = 0\n",
    "        self.lamps = list()\n",
    "        self.criticalLamps = list()\n",
    "        self.numbers = list()\n",
    "        self.enemyLamps = 0\n",
    "        self.darkSpots = 0\n",
    "        self.size = len(game)\n",
    "\n",
    "        ## Set lamps initial positions\n",
    "        for j in range (self.size):\n",
    "            freePositions = 0\n",
    "            for i in range (self.size): \n",
    "                if self.state[i][j] == '-': \n",
    "                    freePositions += 1\n",
    "                else:\n",
    "                    if freePositions > 0:\n",
    "                        ## Set lamp on random position\n",
    "                        l = random.randrange(i - freePositions, i)\n",
    "                        self.lamps.append((l, j))\n",
    "                        freePositions = 0\n",
    "                    \n",
    "                    ## If it is a number\n",
    "                    if self.state[i][j] != '-' and self.state[i][j] != 'X':\n",
    "                        self.numbers.append( Number( (i, j), int( self.state[i][j] ) ) )\n",
    "\n",
    "            if freePositions > 0:\n",
    "                l = random.randrange(self.size - freePositions, self.size)\n",
    "                self.lamps.append((l, j))\n",
    "        \n",
    "        ## Change State\n",
    "        for l in self.lamps:\n",
    "            self.state[l[0]][l[1]] = 'L'\n",
    "\n",
    "        ## Critical Lamps\n",
    "        direction = [(1, 0), (-1, 0), (0, 1), (0, -1)]\n",
    "        for numb in self.numbers:\n",
    "            if numb.n is 0:\n",
    "                i, j = numb.pos\n",
    "                for di in direction:\n",
    "                    ii = i + di[0]\n",
    "                    jj = j + di[1]\n",
    "                    if ii > -1 and ii < self.size and jj > -1 and jj < self.size and self.state[ii][jj] == 'L':\n",
    "                        self.criticalLamps.append((ii, jj))\n",
    "\n",
    "        self.evaluateScore()\n",
    "    \n",
    "    def evaluateScore(self):\n",
    "        # Lamps that see each other \n",
    "        enemyLamps = 0\n",
    "        for i in range (self.size):\n",
    "            lamps = 0\n",
    "            for j in range (self.size):\n",
    "                ## lamp found\n",
    "                if self.state[i][j] == 'L': \n",
    "                    if lamps != 0:\n",
    "                        enemyLamps += 1\n",
    "                    lamps = 1\n",
    "                ## wall found\n",
    "                elif self.state[i][j] != 'L' and self.state[i][j] != '-':\n",
    "                     lamps = 0\n",
    "        \n",
    "        # Not illuminated spots\n",
    "        darkSpots = set()\n",
    "        for i in range(self.size):\n",
    "            for j in range(self.size):\n",
    "                if self.state[i][j] == '-':\n",
    "                    darkSpots.add((i, j))\n",
    "\n",
    "        for lamp in self.lamps:\n",
    "            # Search in column\n",
    "            for i in range(lamp[0] + 1, self.size):\n",
    "                if self.state[i][lamp[1]] == '-':\n",
    "                    if (i, lamp[1]) in darkSpots:\n",
    "                        darkSpots.remove((i, lamp[1]))\n",
    "                else:\n",
    "                    break\n",
    "\n",
    "            for i in range(lamp[0] - 1, -1, -1):\n",
    "                if self.state[i][lamp[1]] == '-':\n",
    "                    if (i, lamp[1]) in darkSpots:\n",
    "                        darkSpots.remove((i, lamp[1]))\n",
    "                else:\n",
    "                    break\n",
    "            \n",
    "            # Search in line\n",
    "            for j in range(lamp[1] + 1, self.size):\n",
    "                if self.state[lamp[0]][j] == '-':\n",
    "                    if (lamp[0], j) in darkSpots:\n",
    "                        darkSpots.remove((lamp[0], j))\n",
    "                else:\n",
    "                    break\n",
    "\n",
    "            for j in range(lamp[1] - 1, -1, -1):\n",
    "                if self.state[lamp[0]][j] == '-':\n",
    "                    if (lamp[0], j) in darkSpots:\n",
    "                        darkSpots.remove((lamp[0], j))\n",
    "                else:\n",
    "                    break\n",
    "        \n",
    "        # Critical Lamps, neighbours of number cells.\n",
    "        restrictions = 0\n",
    "        direction = [(1, 0), (-1, 0), (0, 1), (0, -1)]\n",
    "        for numb in self.numbers:\n",
    "            i, j = numb.pos\n",
    "            neighbours = 0\n",
    "            for di in direction:\n",
    "                ii = i + di[0]\n",
    "                jj = j + di[1]\n",
    "                if ii > -1 and ii < self.size and jj > -1 and jj < self.size and self.state[ii][jj] == 'L':\n",
    "                    neighbours += 1\n",
    "                    if numb.n == 0 and (ii, jj) not in self.criticalLamps:\n",
    "                        self.criticalLamps.append((ii, jj))\n",
    "            restrictions += abs(neighbours - numb.n)\n",
    "        \n",
    "        self.score = restrictions*10 + len(darkSpots)*1 + enemyLamps*5\n"
   ]
  },
  {
   "cell_type": "code",
   "execution_count": 87,
   "metadata": {
    "tags": []
   },
   "outputs": [],
   "source": [
    "def generateNextState(current): \n",
    "    nextState = deepcopy(current)\n",
    "\n",
    "    # Select a lamp\n",
    "    if len(nextState.criticalLamps) != 0:\n",
    "        l = random.choice(nextState.criticalLamps)\n",
    "    else:\n",
    "        l = random.choice(nextState.lamps)\n",
    "    ## More likely to move a Lamp\n",
    "    action = random.randrange(0, 5) \n",
    "\n",
    "    ## Remove Lamp\n",
    "    if action == 0:\n",
    "        nextState.lamps.remove(l)\n",
    "        if l in nextState.criticalLamps:\n",
    "            nextState.criticalLamps.remove(l)\n",
    "        nextState.state[l[0]][l[1]] = '-'\n",
    "        nextState.evaluateScore()\n",
    "    ## Move Lamp\n",
    "    else:\n",
    "        validPositions = list()\n",
    "        for i in range(l[0] + 1, nextState.size):\n",
    "            if nextState.state[i][l[1]] == '-':\n",
    "                validPositions.append((i, l[1]))\n",
    "            else:\n",
    "                break\n",
    "\n",
    "        for i in range(l[0] - 1, -1, -1):\n",
    "            if nextState.state[i][l[1]] == '-':\n",
    "                validPositions.append((i, l[1]))\n",
    "            else:\n",
    "                break\n",
    "\n",
    "        if(len(validPositions) != 0):\n",
    "            newLamp = random.choice(validPositions)\n",
    "            nextState.lamps.remove(l)\n",
    "            if l in nextState.criticalLamps:\n",
    "                nextState.criticalLamps.remove(l)\n",
    "            nextState.state[l[0]][l[1]] = '-'\n",
    "            nextState.lamps.append(newLamp)\n",
    "            nextState.state[newLamp[0]][newLamp[1]] = 'L'\n",
    "            nextState.evaluateScore()\n",
    "\n",
    "    return nextState"
   ]
  },
  {
   "cell_type": "markdown",
   "metadata": {},
   "source": [
    "### HillClimbing"
   ]
  },
  {
   "cell_type": "code",
   "execution_count": 89,
   "metadata": {
    "tags": [
     "outputPrepend"
    ]
   },
   "outputs": [
    {
     "output_type": "stream",
     "name": "stdout",
     "text": " score: 16\nInicio: score: 135\nMelhorou, score: 16\nInicio: score: 125\nMelhorou, score: 17\nInicio: score: 100\nMelhorou, score: 5\nInicio: score: 125\nMelhorou, score: 23\nInicio: score: 90\nMelhorou, score: 26\nInicio: score: 110\nMelhorou, score: 7\nInicio: score: 130\nMelhorou, score: 18\nInicio: score: 140\nMelhorou, score: 20\nInicio: score: 110\nMelhorou, score: 24\nInicio: score: 130\nMelhorou, score: 7\nInicio: score: 135\nMelhorou, score: 20\nInicio: score: 150\nMelhorou, score: 31\nInicio: score: 120\nMelhorou, score: 29\nInicio: score: 155\nMelhorou, score: 40\nInicio: score: 105\nMelhorou, score: 23\nInicio: score: 125\nMelhorou, score: 5\nInicio: score: 130\nMelhorou, score: 12\nInicio: score: 145\nMelhorou, score: 18\nInicio: score: 150\nMelhorou, score: 15\nInicio: score: 110\nMelhorou, score: 11\nInicio: score: 100\nMelhorou, score: 18\nInicio: score: 85\nMelhorou, score: 10\nInicio: score: 120\nMelhorou, score: 5\nInicio: score: 150\nMelhorou, score: 10\nInicio: score: 110\nMelhorou, score: 10\nInicio: score: 100\nMelhorou, score: 13\nInicio: score: 105\nMelhorou, score: 6\nInicio: score: 150\nMelhorou, score: 11\nInicio: score: 105\nMelhorou, score: 13\nInicio: score: 125\nMelhorou, score: 25\nInicio: score: 115\nMelhorou, score: 6\nInicio: score: 125\nMelhorou, score: 26\nInicio: score: 125\nMelhorou, score: 11\nInicio: score: 140\nMelhorou, score: 15\nInicio: score: 90\nMelhorou, score: 10\nInicio: score: 120\nMelhorou, score: 7\nInicio: score: 90\nMelhorou, score: 7\nInicio: score: 125\nMelhorou, score: 18\nInicio: score: 115\nMelhorou, score: 12\nInicio: score: 120\nMelhorou, score: 5\nInicio: score: 125\nMelhorou, score: 5\nInicio: score: 125\nMelhorou, score: 16\nInicio: score: 125\nMelhorou, score: 16\nInicio: score: 130\nMelhorou, score: 19\nInicio: score: 105\nMelhorou, score: 28\nInicio: score: 105\nMelhorou, score: 12\nInicio: score: 130\nMelhorou, score: 22\nInicio: score: 105\nMelhorou, score: 23\nInicio: score: 95\nMelhorou, score: 5\nInicio: score: 135\nMelhorou, score: 22\nInicio: score: 145\nMelhorou, score: 10\nInicio: score: 140\nMelhorou, score: 21\nInicio: score: 150\nMelhorou, score: 5\nInicio: score: 170\nMelhorou, score: 22\nInicio: score: 135\nMelhorou, score: 10\nInicio: score: 115\nMelhorou, score: 19\nInicio: score: 110\nMelhorou, score: 18\nInicio: score: 120\nMelhorou, score: 18\nInicio: score: 155\nMelhorou, score: 21\nInicio: score: 120\nMelhorou, score: 5\nInicio: score: 110\nMelhorou, score: 5\nInicio: score: 110\nMelhorou, score: 5\nInicio: score: 165\nMelhorou, score: 5\nInicio: score: 125\nMelhorou, score: 28\nInicio: score: 140\nMelhorou, score: 17\nInicio: score: 130\nMelhorou, score: 34\nInicio: score: 110\nMelhorou, score: 15\nInicio: score: 120\nMelhorou, score: 22\nInicio: score: 100\nMelhorou, score: 21\nInicio: score: 90\nMelhorou, score: 9\nInicio: score: 80\nMelhorou, score: 13\nInicio: score: 135\nMelhorou, score: 26\nInicio: score: 110\nMelhorou, score: 29\nInicio: score: 110\nMelhorou, score: 18\nInicio: score: 130\nMelhorou, score: 13\nInicio: score: 125\nMelhorou, score: 40\nInicio: score: 165\nMelhorou, score: 18\nInicio: score: 105\nMelhorou, score: 15\nInicio: score: 140\nMelhorou, score: 16\nInicio: score: 135\nMelhorou, score: 13\nInicio: score: 150\nMelhorou, score: 8\nInicio: score: 155\nMelhorou, score: 18\nInicio: score: 105\nMelhorou, score: 19\nInicio: score: 130\nMelhorou, score: 31\nInicio: score: 105\nMelhorou, score: 22\nInicio: score: 120\nMelhorou, score: 6\nInicio: score: 130\nMelhorou, score: 12\nInicio: score: 125\nMelhorou, score: 17\nInicio: score: 80\nMelhorou, score: 6\nInicio: score: 125\nMelhorou, score: 18\nInicio: score: 115\nMelhorou, score: 35\nInicio: score: 100\nMelhorou, score: 18\nInicio: score: 110\nMelhorou, score: 21\nInicio: score: 120\nMelhorou, score: 15\nInicio: score: 120\nMelhorou, score: 11\nInicio: score: 105\nMelhorou, score: 5\nInicio: score: 80\nMelhorou, score: 5\nInicio: score: 155\nMelhorou, score: 19\nInicio: score: 155\nMelhorou, score: 18\nInicio: score: 140\nMelhorou, score: 26\nInicio: score: 120\nMelhorou, score: 16\nInicio: score: 155\nMelhorou, score: 31\nInicio: score: 130\nMelhorou, score: 36\nInicio: score: 120\nMelhorou, score: 15\nInicio: score: 105\nMelhorou, score: 26\nInicio: score: 115\nMelhorou, score: 8\nInicio: score: 120\nMelhorou, score: 21\nInicio: score: 115\nMelhorou, score: 30\nInicio: score: 120\nMelhorou, score: 5\nInicio: score: 120\nMelhorou, score: 5\nInicio: score: 120\nMelhorou, score: 22\nInicio: score: 105\nMelhorou, score: 9\nInicio: score: 145\nMelhorou, score: 33\nInicio: score: 110\nMelhorou, score: 5\nInicio: score: 130\nMelhorou, score: 5\nInicio: score: 100\nMelhorou, score: 5\nInicio: score: 110\nMelhorou, score: 6\nInicio: score: 145\nMelhorou, score: 5\nInicio: score: 135\nMelhorou, score: 17\nInicio: score: 145\nMelhorou, score: 8\nInicio: score: 125\nMelhorou, score: 22\nInicio: score: 145\nMelhorou, score: 12\nInicio: score: 105\nMelhorou, score: 6\nInicio: score: 115\nMelhorou, score: 18\nInicio: score: 120\nMelhorou, score: 12\nInicio: score: 130\nMelhorou, score: 27\nInicio: score: 160\nMelhorou, score: 22\nInicio: score: 160\nMelhorou, score: 29\nInicio: score: 145\nMelhorou, score: 19\nInicio: score: 125\nMelhorou, score: 40\nInicio: score: 115\nMelhorou, score: 26\nInicio: score: 105\nMelhorou, score: 9\nInicio: score: 130\nMelhorou, score: 5\nInicio: score: 135\nMelhorou, score: 20\nInicio: score: 85\nMelhorou, score: 17\nInicio: score: 150\nMelhorou, score: 17\nInicio: score: 140\nMelhorou, score: 13\nInicio: score: 120\nMelhorou, score: 26\nInicio: score: 145\nMelhorou, score: 11\nInicio: score: 140\nMelhorou, score: 32\nInicio: score: 110\nMelhorou, score: 11\nInicio: score: 130\nMelhorou, score: 10\nInicio: score: 115\nMelhorou, score: 16\nInicio: score: 125\nMelhorou, score: 6\nInicio: score: 130\nMelhorou, score: 22\nInicio: score: 120\nMelhorou, score: 26\nInicio: score: 135\nMelhorou, score: 28\nInicio: score: 125\nMelhorou, score: 34\nInicio: score: 135\nMelhorou, score: 15\nInicio: score: 125\nMelhorou, score: 26\nInicio: score: 90\nMelhorou, score: 10\nInicio: score: 115\nMelhorou, score: 16\nInicio: score: 105\nMelhorou, score: 15\nInicio: score: 115\nMelhorou, score: 9\nInicio: score: 125\nMelhorou, score: 16\nInicio: score: 135\nMelhorou, score: 36\nInicio: score: 130\nMelhorou, score: 16\nInicio: score: 130\nMelhorou, score: 21\nInicio: score: 90\nMelhorou, score: 15\nInicio: score: 130\nMelhorou, score: 8\nInicio: score: 125\nMelhorou, score: 17\nInicio: score: 130\nMelhorou, score: 9\nInicio: score: 155\nMelhorou, score: 15\nInicio: score: 110\nMelhorou, score: 5\nInicio: score: 130\nMelhorou, score: 16\nInicio: score: 85\nMelhorou, score: 8\nInicio: score: 95\nMelhorou, score: 16\nInicio: score: 125\nMelhorou, score: 13\nInicio: score: 110\nMelhorou, score: 21\nInicio: score: 125\nMelhorou, score: 16\nInicio: score: 130\nMelhorou, score: 5\nInicio: score: 120\nMelhorou, score: 8\nInicio: score: 130\nMelhorou, score: 22\nInicio: score: 135\nMelhorou, score: 12\nInicio: score: 120\nMelhorou, score: 16\nInicio: score: 155\nMelhorou, score: 34\nInicio: score: 125\nMelhorou, score: 14\nInicio: score: 115\nMelhorou, score: 28\nInicio: score: 120\nMelhorou, score: 23\nInicio: score: 155\nMelhorou, score: 31\nInicio: score: 95\nMelhorou, score: 7\nInicio: score: 115\nMelhorou, score: 6\nInicio: score: 95\nMelhorou, score: 8\nInicio: score: 100\nMelhorou, score: 18\nInicio: score: 95\nMelhorou, score: 20\nInicio: score: 140\nMelhorou, score: 28\nInicio: score: 100\nMelhorou, score: 11\nInicio: score: 155\nMelhorou, score: 29\nInicio: score: 95\nMelhorou, score: 13\nInicio: score: 100\nMelhorou, score: 21\nInicio: score: 150\nMelhorou, score: 20\nInicio: score: 100\nMelhorou, score: 5\nInicio: score: 130\nMelhorou, score: 23\nInicio: score: 150\nMelhorou, score: 6\nInicio: score: 130\nMelhorou, score: 15\nInicio: score: 120\nMelhorou, score: 6\nInicio: score: 100\nMelhorou, score: 10\nInicio: score: 125\nMelhorou, score: 9\nInicio: score: 115\nMelhorou, score: 38\nInicio: score: 145\nMelhorou, score: 15\nInicio: score: 130\nMelhorou, score: 8\nInicio: score: 135\nMelhorou, score: 30\nInicio: score: 115\nMelhorou, score: 7\nInicio: score: 125\nMelhorou, score: 5\nInicio: score: 140\nMelhorou, score: 38\nInicio: score: 125\nMelhorou, score: 23\nInicio: score: 110\nMelhorou, score: 15\nInicio: score: 120\nMelhorou, score: 11\nInicio: score: 140\nMelhorou, score: 21\nInicio: score: 165\nMelhorou, score: 9\nInicio: score: 140\nMelhorou, score: 45\nInicio: score: 125\nMelhorou, score: 21\nInicio: score: 155\nMelhorou, score: 35\nInicio: score: 135\nMelhorou, score: 14\nInicio: score: 105\nMelhorou, score: 16\nInicio: score: 120\nMelhorou, score: 12\nInicio: score: 130\nMelhorou, score: 26\nInicio: score: 110\nMelhorou, score: 25\nInicio: score: 95\nMelhorou, score: 5\nInicio: score: 125\nMelhorou, score: 10\nInicio: score: 115\nMelhorou, score: 19\nInicio: score: 90\nMelhorou, score: 6\nInicio: score: 85\nMelhorou, score: 5\nInicio: score: 145\nMelhorou, score: 8\nInicio: score: 135\nMelhorou, score: 17\nInicio: score: 140\nMelhorou, score: 19\nInicio: score: 135\nMelhorou, score: 11\nInicio: score: 145\nMelhorou, score: 11\nInicio: score: 110\nMelhorou, score: 28\nInicio: score: 150\nMelhorou, score: 5\nInicio: score: 100\nMelhorou, score: 5\nInicio: score: 90\nMelhorou, score: 18\nInicio: score: 115\nMelhorou, score: 17\nInicio: score: 95\nMelhorou, score: 7\nInicio: score: 150\nMelhorou, score: 17\nInicio: score: 115\nMelhorou, score: 13\nInicio: score: 135\nMelhorou, score: 12\nInicio: score: 145\nMelhorou, score: 31\nInicio: score: 120\nMelhorou, score: 24\nInicio: score: 125\nMelhorou, score: 15\nInicio: score: 110\nMelhorou, score: 11\nInicio: score: 110\nMelhorou, score: 8\nInicio: score: 150\nMelhorou, score: 17\nInicio: score: 160\nMelhorou, score: 18\nInicio: score: 105\nMelhorou, score: 18\nInicio: score: 125\nMelhorou, score: 20\nInicio: score: 135\nMelhorou, score: 13\nInicio: score: 110\nMelhorou, score: 18\nInicio: score: 110\nMelhorou, score: 17\nInicio: score: 160\nMelhorou, score: 32\nInicio: score: 90\nMelhorou, score: 10\nInicio: score: 100\nMelhorou, score: 11\nInicio: score: 125\nMelhorou, score: 11\nInicio: score: 115\nMelhorou, score: 5\nInicio: score: 115\nMelhorou, score: 8\nInicio: score: 110\nMelhorou, score: 16\nInicio: score: 145\nMelhorou, score: 24\nInicio: score: 85\nMelhorou, score: 15\nInicio: score: 105\nMelhorou, score: 8\nInicio: score: 115\nMelhorou, score: 16\nInicio: score: 115\nMelhorou, score: 25\nInicio: score: 125\nMelhorou, score: 20\nInicio: score: 135\nMelhorou, score: 37\nInicio: score: 140\nMelhorou, score: 16\nInicio: score: 155\nMelhorou, score: 15\nInicio: score: 155\nMelhorou, score: 38\nInicio: score: 120\nMelhorou, score: 9\nInicio: score: 145\nMelhorou, score: 17\nInicio: score: 105\nMelhorou, score: 10\nInicio: score: 140\nMelhorou, score: 11\nInicio: score: 125\nMelhorou, score: 5\nInicio: score: 100\nMelhorou, score: 30\nInicio: score: 135\nMelhorou, score: 31\nInicio: score: 115\nMelhorou, score: 16\nInicio: score: 115\nMelhorou, score: 32\nInicio: score: 150\nMelhorou, score: 25\nInicio: score: 120\nMelhorou, score: 7\nInicio: score: 90\nMelhorou, score: 19\nInicio: score: 140\nMelhorou, score: 18\nInicio: score: 120\nMelhorou, score: 8\nInicio: score: 135\nMelhorou, score: 21\nInicio: score: 145\nMelhorou, score: 12\nInicio: score: 100\nMelhorou, score: 5\nInicio: score: 120\nMelhorou, score: 6\nInicio: score: 125\nMelhorou, score: 5\nInicio: score: 100\nMelhorou, score: 5\nInicio: score: 115\nMelhorou, score: 40\nInicio: score: 95\nMelhorou, score: 16\nInicio: score: 90\nMelhorou, score: 9\nInicio: score: 140\nMelhorou, score: 41\nInicio: score: 140\nMelhorou, score: 18\nInicio: score: 130\nMelhorou, score: 11\nInicio: score: 135\nMelhorou, score: 22\nInicio: score: 120\nMelhorou, score: 40\nInicio: score: 120\nMelhorou, score: 18\nInicio: score: 85\nMelhorou, score: 18\nInicio: score: 135\nMelhorou, score: 31\nInicio: score: 120\nMelhorou, score: 17\nInicio: score: 130\nMelhorou, score: 16\nInicio: score: 140\nMelhorou, score: 27\nInicio: score: 135\nMelhorou, score: 16\nInicio: score: 135\nMelhorou, score: 21\nInicio: score: 130\nMelhorou, score: 32\nInicio: score: 160\nMelhorou, score: 17\nInicio: score: 105\nMelhorou, score: 10\nInicio: score: 105\nMelhorou, score: 6\nInicio: score: 110\nMelhorou, score: 24\nInicio: score: 140\nMelhorou, score: 13\nInicio: score: 140\nMelhorou, score: 15\nInicio: score: 120\nMelhorou, score: 47\nInicio: score: 110\nMelhorou, score: 8\nInicio: score: 130\nMelhorou, score: 11\nInicio: score: 135\nMelhorou, score: 28\nInicio: score: 110\nMelhorou, score: 17\nInicio: score: 105\nMelhorou, score: 9\nInicio: score: 130\nMelhorou, score: 26\nInicio: score: 130\nMelhorou, score: 24\nInicio: score: 120\nMelhorou, score: 11\nInicio: score: 130\nMelhorou, score: 18\nInicio: score: 130\nMelhorou, score: 5\nInicio: score: 150\nMelhorou, score: 29\nInicio: score: 105\nMelhorou, score: 31\nInicio: score: 110\nMelhorou, score: 32\nInicio: score: 110\nMelhorou, score: 11\nInicio: score: 140\nMelhorou, score: 29\nInicio: score: 140\nMelhorou, score: 11\nInicio: score: 90\nMelhorou, score: 5\nInicio: score: 135\nMelhorou, score: 18\nInicio: score: 115\nMelhorou, score: 16\nInicio: score: 150\nMelhorou, score: 6\nInicio: score: 110\nMelhorou, score: 24\nInicio: score: 135\nMelhorou, score: 15\nInicio: score: 150\nMelhorou, score: 33\nInicio: score: 100\nMelhorou, score: 13\nInicio: score: 125\nMelhorou, score: 5\nInicio: score: 120\nMelhorou, score: 19\nInicio: score: 105\nMelhorou, score: 9\nInicio: score: 130\nMelhorou, score: 21\nInicio: score: 130\nMelhorou, score: 16\nInicio: score: 115\nMelhorou, score: 29\nInicio: score: 125\nMelhorou, score: 16\nInicio: score: 145\nMelhorou, score: 8\nInicio: score: 110\nMelhorou, score: 29\nInicio: score: 125\nMelhorou, score: 5\nInicio: score: 100\nMelhorou, score: 8\nInicio: score: 135\nMelhorou, score: 16\nInicio: score: 120\nMelhorou, score: 31\nInicio: score: 125\nMelhorou, score: 25\nInicio: score: 140\nMelhorou, score: 20\nInicio: score: 110\nMelhorou, score: 18\nInicio: score: 125\nMelhorou, score: 16\nInicio: score: 165\nMelhorou, score: 20\nInicio: score: 140\nMelhorou, score: 10\nInicio: score: 125\nMelhorou, score: 18\nInicio: score: 150\nMelhorou, score: 15\nInicio: score: 120\nMelhorou, score: 6\nInicio: score: 145\nMelhorou, score: 26\nInicio: score: 120\nMelhorou, score: 23\nInicio: score: 120\nMelhorou, score: 18\nInicio: score: 125\nMelhorou, score: 20\nInicio: score: 115\nMelhorou, score: 9\nInicio: score: 135\nMelhorou, score: 17\nInicio: score: 125\nMelhorou, score: 11\nInicio: score: 125\nMelhorou, score: 12\nInicio: score: 105\nMelhorou, score: 5\nInicio: score: 120\nMelhorou, score: 10\nInicio: score: 125\nMelhorou, score: 26\nInicio: score: 120\nMelhorou, score: 23\nInicio: score: 130\nMelhorou, score: 27\nInicio: score: 115\nMelhorou, score: 22\nInicio: score: 105\nMelhorou, score: 15\nInicio: score: 115\nMelhorou, score: 26\nInicio: score: 120\nMelhorou, score: 16\nInicio: score: 125\nMelhorou, score: 37\nInicio: score: 100\nMelhorou, score: 23\nInicio: score: 130\nMelhorou, score: 15\nInicio: score: 95\nMelhorou, score: 17\nInicio: score: 115\nMelhorou, score: 21\nInicio: score: 140\nMelhorou, score: 21\nInicio: score: 150\nMelhorou, score: 5\nInicio: score: 130\nMelhorou, score: 5\nInicio: score: 110\nMelhorou, score: 5\nInicio: score: 85\nMelhorou, score: 15\nInicio: score: 150\nMelhorou, score: 5\nInicio: score: 120\nMelhorou, score: 18\nInicio: score: 120\nMelhorou, score: 33\nInicio: score: 105\nMelhorou, score: 8\nInicio: score: 140\nMelhorou, score: 21\nInicio: score: 150\nMelhorou, score: 11\nInicio: score: 90\nMelhorou, score: 5\nInicio: score: 165\nMelhorou, score: 9\nInicio: score: 125\nMelhorou, score: 19\nInicio: score: 165\nMelhorou, score: 26\nInicio: score: 130\nMelhorou, score: 24\nInicio: score: 115\nMelhorou, score: 19\nInicio: score: 115\nMelhorou, score: 21\nInicio: score: 140\nMelhorou, score: 18\nInicio: score: 120\nMelhorou, score: 28\nInicio: score: 120\nMelhorou, score: 30\nInicio: score: 120\nMelhorou, score: 8\nInicio: score: 145\nMelhorou, score: 18\nInicio: score: 130\nMelhorou, score: 21\nInicio: score: 150\nMelhorou, score: 20\nInicio: score: 125\nMelhorou, score: 11\nInicio: score: 125\nMelhorou, score: 8\nInicio: score: 110\nMelhorou, score: 29\nInicio: score: 135\nMelhorou, score: 46\nInicio: score: 100\nMelhorou, score: 5\nInicio: score: 95\nMelhorou, score: 23\nInicio: score: 115\nMelhorou, score: 26\nInicio: score: 140\nMelhorou, score: 29\nInicio: score: 120\nMelhorou, score: 5\nInicio: score: 100\nMelhorou, score: 19\nInicio: score: 95\nMelhorou, score: 15\nInicio: score: 160\nMelhorou, score: 22\nInicio: score: 130\nMelhorou, score: 9\nInicio: score: 120\nMelhorou, score: 5\nInicio: score: 115\nMelhorou, score: 18\nInicio: score: 120\nMelhorou, score: 8\nInicio: score: 145\nMelhorou, score: 26\nInicio: score: 115\nMelhorou, score: 19\nInicio: score: 110\nMelhorou, score: 26\nInicio: score: 125\nMelhorou, score: 21\nInicio: score: 115\nMelhorou, score: 8\nInicio: score: 110\nMelhorou, score: 18\nInicio: score: 140\nMelhorou, score: 18\nInicio: score: 120\nMelhorou, score: 13\nInicio: score: 115\nMelhorou, score: 16\nInicio: score: 125\nMelhorou, score: 16\nInicio: score: 105\nMelhorou, score: 15\nInicio: score: 125\nMelhorou, score: 18\nInicio: score: 150\nMelhorou, score: 10\nInicio: score: 125\nMelhorou, score: 21\nInicio: score: 140\nMelhorou, score: 16\nInicio: score: 140\nMelhorou, score: 23\nInicio: score: 135\nMelhorou, score: 22\nInicio: score: 145\nMelhorou, score: 16\nInicio: score: 140\nMelhorou, score: 21\nInicio: score: 125\nMelhorou, score: 30\nInicio: score: 125\nMelhorou, score: 40\nInicio: score: 145\nMelhorou, score: 31\nInicio: score: 115\nMelhorou, score: 26\nInicio: score: 95\nMelhorou, score: 5\nInicio: score: 130\nMelhorou, score: 10\nInicio: score: 110\nMelhorou, score: 7\nInicio: score: 135\nMelhorou, score: 36\nInicio: score: 105\nMelhorou, score: 11\nInicio: score: 135\nMelhorou, score: 18\nInicio: score: 125\nMelhorou, score: 16\nInicio: score: 135\nMelhorou, score: 27\nInicio: score: 110\nMelhorou, score: 5\nInicio: score: 110\nMelhorou, score: 15\nInicio: score: 105\nMelhorou, score: 5\nInicio: score: 135\nMelhorou, score: 22\nInicio: score: 130\nMelhorou, score: 21\nInicio: score: 110\nMelhorou, score: 12\nInicio: score: 125\nMelhorou, score: 29\nInicio: score: 130\nMelhorou, score: 6\nInicio: score: 125\nMelhorou, score: 7\nInicio: score: 110\nMelhorou, score: 16\nInicio: score: 145\nMelhorou, score: 20\nInicio: score: 135\nMelhorou, score: 21\nInicio: score: 115\nMelhorou, score: 26\nInicio: score: 135\nMelhorou, score: 29\nInicio: score: 145\nMelhorou, score: 25\nInicio: score: 90\nMelhorou, score: 5\nInicio: score: 125\nMelhorou, score: 29\nInicio: score: 125\nMelhorou, score: 21\nInicio: score: 95\nMelhorou, score: 5\nInicio: score: 85\nMelhorou, score: 11\nInicio: score: 100\nMelhorou, score: 31\nInicio: score: 90\nMelhorou, score: 10\nInicio: score: 145\nMelhorou, score: 5\nInicio: score: 120\nMelhorou, score: 27\nInicio: score: 135\nMelhorou, score: 16\nInicio: score: 95\nMelhorou, score: 20\nInicio: score: 145\nMelhorou, score: 28\nInicio: score: 110\nMelhorou, score: 18\nInicio: score: 145\nMelhorou, score: 17\nInicio: score: 130\nMelhorou, score: 18\nInicio: score: 130\nMelhorou, score: 10\nInicio: score: 135\nMelhorou, score: 16\nInicio: score: 100\nMelhorou, score: 14\nInicio: score: 125\nMelhorou, score: 25\nInicio: score: 120\nMelhorou, score: 26\nInicio: score: 105\nMelhorou, score: 6\nInicio: score: 130\nMelhorou, score: 23\nInicio: score: 145\nMelhorou, score: 21\nInicio: score: 140\nMelhorou, score: 25\nInicio: score: 135\nMelhorou, score: 6\nInicio: score: 100\nMelhorou, score: 5\nInicio: score: 150\nMelhorou, score: 7\nInicio: score: 105\nMelhorou, score: 5\nInicio: score: 130\nMelhorou, score: 11\nInicio: score: 95\nMelhorou, score: 13\nInicio: score: 120\nMelhorou, score: 11\nInicio: score: 110\nMelhorou, score: 17\nInicio: score: 120\nMelhorou, score: 16\nInicio: score: 110\nMelhorou, score: 15\nInicio: score: 130\nMelhorou, score: 26\nInicio: score: 130\nMelhorou, score: 16\n[[&#39;-&#39; &#39;L&#39; &#39;1&#39; &#39;-&#39; &#39;L&#39; &#39;-&#39; &#39;-&#39;]\n [&#39;L&#39; &#39;-&#39; &#39;-&#39; &#39;0&#39; &#39;X&#39; &#39;-&#39; &#39;L&#39;]\n [&#39;-&#39; &#39;0&#39; &#39;-&#39; &#39;-&#39; &#39;-&#39; &#39;L&#39; &#39;2&#39;]\n [&#39;-&#39; &#39;0&#39; &#39;-&#39; &#39;X&#39; &#39;-&#39; &#39;X&#39; &#39;-&#39;]\n [&#39;X&#39; &#39;-&#39; &#39;L&#39; &#39;-&#39; &#39;-&#39; &#39;1&#39; &#39;L&#39;]\n [&#39;-&#39; &#39;L&#39; &#39;3&#39; &#39;1&#39; &#39;L&#39; &#39;-&#39; &#39;-&#39;]\n [&#39;-&#39; &#39;-&#39; &#39;L&#39; &#39;-&#39; &#39;X&#39; &#39;L&#39; &#39;-&#39;]]\n"
    }
   ],
   "source": [
    "while True:\n",
    "    current = State(game)\n",
    "    plato = 150\n",
    "    print(\"Inicio: score:\", current.score)\n",
    "    #print(current.state)\n",
    "    \n",
    "\n",
    "    while True:\n",
    "        nextState = generateNextState(current)\n",
    "        if nextState.score == 0:\n",
    "            break\n",
    "\n",
    "        if nextState.score < current.score:\n",
    "            current = nextState\n",
    "            #print(\"Melhorou, score:\", current.score)\n",
    "            # print(current.state)\n",
    "            plato = 150\n",
    "        else:\n",
    "            plato -= 1\n",
    "            if plato == 0:\n",
    "                break\n",
    "\n",
    "    print(\"Melhorou, score:\", current.score)\n",
    "    if nextState.score == 0:\n",
    "        print(nextState.state)\n",
    "        break\n"
   ]
  },
  {
   "cell_type": "code",
   "execution_count": null,
   "metadata": {},
   "outputs": [],
   "source": []
  }
 ],
 "metadata": {
  "kernelspec": {
   "display_name": "Python 3",
   "language": "python",
   "name": "python3"
  },
  "language_info": {
   "codemirror_mode": {
    "name": "ipython",
    "version": 3
   },
   "file_extension": ".py",
   "mimetype": "text/x-python",
   "name": "python",
   "nbconvert_exporter": "python",
   "pygments_lexer": "ipython3",
   "version": "3.6.9-final"
  }
 },
 "nbformat": 4,
 "nbformat_minor": 4
}