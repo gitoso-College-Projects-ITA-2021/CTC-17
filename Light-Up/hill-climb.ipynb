{
 "cells": [
  {
   "cell_type": "markdown",
   "metadata": {},
   "source": [
    "# (CTC-17) Projeto de Buscas\n",
    "---"
   ]
  },
  {
   "cell_type": "markdown",
   "metadata": {},
   "source": [
    "## Dependências"
   ]
  },
  {
   "cell_type": "code",
   "execution_count": 190,
   "metadata": {},
   "outputs": [],
   "source": [
    "import numpy as np\n",
    "import random\n",
    "from copy import copy, deepcopy"
   ]
  },
  {
   "cell_type": "markdown",
   "metadata": {},
   "source": [
    "## Importando os dados"
   ]
  },
  {
   "cell_type": "code",
   "execution_count": 191,
   "metadata": {
    "tags": []
   },
   "outputs": [
    {
     "output_type": "stream",
     "name": "stdout",
     "text": "[[&#39;-&#39; &#39;-&#39; &#39;1&#39; &#39;-&#39; &#39;-&#39; &#39;-&#39; &#39;-&#39;]\n [&#39;-&#39; &#39;-&#39; &#39;-&#39; &#39;0&#39; &#39;X&#39; &#39;-&#39; &#39;-&#39;]\n [&#39;-&#39; &#39;0&#39; &#39;-&#39; &#39;-&#39; &#39;-&#39; &#39;-&#39; &#39;2&#39;]\n [&#39;-&#39; &#39;0&#39; &#39;-&#39; &#39;X&#39; &#39;-&#39; &#39;X&#39; &#39;-&#39;]\n [&#39;X&#39; &#39;-&#39; &#39;-&#39; &#39;-&#39; &#39;-&#39; &#39;1&#39; &#39;-&#39;]\n [&#39;-&#39; &#39;-&#39; &#39;3&#39; &#39;1&#39; &#39;-&#39; &#39;-&#39; &#39;-&#39;]\n [&#39;-&#39; &#39;-&#39; &#39;-&#39; &#39;-&#39; &#39;X&#39; &#39;-&#39; &#39;-&#39;]]\n"
    }
   ],
   "source": [
    "\n",
    "game = np.loadtxt(\"./games/game1.txt\", dtype='str', delimiter=' ')\n",
    "print(game)"
   ]
  },
  {
   "cell_type": "markdown",
   "metadata": {},
   "source": [
    "## Pré-Game"
   ]
  },
  {
   "cell_type": "code",
   "execution_count": 192,
   "metadata": {},
   "outputs": [],
   "source": [
    "class Number():\n",
    "    def __init__(self, pos, number):\n",
    "        self.pos = pos\n",
    "        self.n = number\n",
    "\n",
    "class State():\n",
    "    def __init__(self, game):\n",
    "        self.state = copy(game)\n",
    "        self.score = 0\n",
    "        self.lamps = list()\n",
    "        self.numbers = list()\n",
    "        self.enemyLamps = 0\n",
    "        self.darkSpots = 0\n",
    "\n",
    "        ## Set lamps initial positions\n",
    "        for j in range (7): # Colunas \n",
    "            freePositions = 0\n",
    "            for i in range (7): # Linhas\n",
    "                if self.state[i][j] == '-': \n",
    "                    freePositions += 1\n",
    "                else:\n",
    "                    if freePositions > 0:\n",
    "                        l = random.randrange(i - freePositions, i)\n",
    "                        self.lamps.append((l, j))\n",
    "                        freePositions = 0\n",
    "                    \n",
    "                    ## If it is a number\n",
    "                    if self.state[i][j] != '-' and self.state[i][j] != 'X':\n",
    "                        self.numbers.append( Number( (i, j), int( self.state[i][j] ) ) )\n",
    "\n",
    "            if freePositions > 0:\n",
    "                l = random.randrange(7 - freePositions, 7)\n",
    "                self.lamps.append((l, j))\n",
    "        \n",
    "        for l in self.lamps:\n",
    "            self.state[l[0]][l[1]] = 'L'\n",
    "     \n",
    "        print(\"Estado Inicial:\")\n",
    "        print(self.state)\n",
    "\n",
    "        enemy = 0\n",
    "        for i in range (7):\n",
    "            lamps = 0\n",
    "            for j in range (7):\n",
    "                ## lamp found\n",
    "                if self.state[i][j] == 'L': \n",
    "                    if lamps != 0:\n",
    "                        enemy += 1\n",
    "                    lamps = 1\n",
    "                ## wall found\n",
    "                elif self.state[i][j] != 'L' and self.state[i][j] != '-':\n",
    "                     lamps = 0\n",
    "        \n",
    "        self.enemyLamps = enemy\n",
    "        self.score = self.enemyLamps\n",
    "    \n",
    "    def evaluateScore(self):\n",
    "        enemyLamps = 0\n",
    "        for i in range (7):\n",
    "            lamps = 0\n",
    "            for j in range (7):\n",
    "                ## lamp found\n",
    "                if self.state[i][j] == 'L': \n",
    "                    if lamps != 0:\n",
    "                        enemyLamps += 1\n",
    "                    lamps = 1\n",
    "                ## wall found\n",
    "                elif self.state[i][j] != 'L' and self.state[i][j] != '-':\n",
    "                     lamps = 0\n",
    "    \n",
    "    \n"
   ]
  },
  {
   "cell_type": "code",
   "execution_count": 193,
   "metadata": {
    "tags": []
   },
   "outputs": [],
   "source": [
    "def generateNextState(current):\n",
    "    nextState = copy(current)\n",
    "\n",
    "    # Select a lamp\n",
    "    l = random.choice(nextState.lamps)\n",
    "    action = random.randrange(0, 2)\n",
    "    action = 1\n",
    "\n",
    "    ## retirar a lampada\n",
    "    if action == 0:\n",
    "        nextState.lamps.remove(l)\n",
    "        nextState.state[l[0]][l[1]] = '-'\n",
    "        nextState.evaluateScore()\n",
    "    ## Mover a lampada\n",
    "    else:\n",
    "        validPositions = list()\n",
    "        for i in range(l[0] + 1, 7):\n",
    "            if nextState.state[i][l[1]] == '-':\n",
    "                validPositions.append((i, l[1]))\n",
    "                print((i, l[1]))\n",
    "            else:\n",
    "                break\n",
    "\n",
    "        for i in range(l[0] - 1, -1):\n",
    "            if nextState.state[i][l[1]] == '-':\n",
    "                validPositions.append((i, l[1]))\n",
    "                print((i, l[1]))\n",
    "            else:\n",
    "                break\n",
    "\n",
    "        if(len(validPositions) != 0):\n",
    "            newLamp = random.choice(validPositions)\n",
    "            nextState.lamps.remove(l)\n",
    "            nextState.state[l[0]][l[1]] = '-'\n",
    "            nextState.lamps.append(newLamp)\n",
    "            nextState.state[newLamp[0]][newLamp[1]] = 'L'\n",
    "            nextState.evaluateScore()\n",
    "\n",
    "    return nextState"
   ]
  },
  {
   "cell_type": "markdown",
   "metadata": {},
   "source": [
    "### Preenchendo a estrutura de dados"
   ]
  },
  {
   "cell_type": "code",
   "execution_count": 194,
   "metadata": {
    "tags": []
   },
   "outputs": [
    {
     "output_type": "stream",
     "name": "stdout",
     "text": "Estado Inicial:\n[[&#39;L&#39; &#39;L&#39; &#39;1&#39; &#39;L&#39; &#39;L&#39; &#39;-&#39; &#39;L&#39;]\n [&#39;-&#39; &#39;-&#39; &#39;L&#39; &#39;0&#39; &#39;X&#39; &#39;L&#39; &#39;-&#39;]\n [&#39;-&#39; &#39;0&#39; &#39;-&#39; &#39;L&#39; &#39;-&#39; &#39;-&#39; &#39;2&#39;]\n [&#39;-&#39; &#39;0&#39; &#39;-&#39; &#39;X&#39; &#39;L&#39; &#39;X&#39; &#39;-&#39;]\n [&#39;X&#39; &#39;L&#39; &#39;-&#39; &#39;L&#39; &#39;-&#39; &#39;1&#39; &#39;L&#39;]\n [&#39;L&#39; &#39;-&#39; &#39;3&#39; &#39;1&#39; &#39;-&#39; &#39;L&#39; &#39;-&#39;]\n [&#39;-&#39; &#39;-&#39; &#39;L&#39; &#39;L&#39; &#39;X&#39; &#39;-&#39; &#39;-&#39;]]\nAttacking lamps:\n5\nNumbers:\n(2, 1) 0\n(3, 1) 0\n(0, 2) 1\n(5, 2) 3\n(1, 3) 0\n(5, 3) 1\n(4, 5) 1\n(2, 6) 2\nEstado Inicial:\n[[&#39;-&#39; &#39;-&#39; &#39;1&#39; &#39;L&#39; &#39;L&#39; &#39;-&#39; &#39;L&#39;]\n [&#39;-&#39; &#39;L&#39; &#39;-&#39; &#39;0&#39; &#39;X&#39; &#39;L&#39; &#39;-&#39;]\n [&#39;-&#39; &#39;0&#39; &#39;-&#39; &#39;L&#39; &#39;L&#39; &#39;-&#39; &#39;2&#39;]\n [&#39;L&#39; &#39;0&#39; &#39;-&#39; &#39;X&#39; &#39;-&#39; &#39;X&#39; &#39;L&#39;]\n [&#39;X&#39; &#39;-&#39; &#39;L&#39; &#39;L&#39; &#39;-&#39; &#39;1&#39; &#39;-&#39;]\n [&#39;-&#39; &#39;L&#39; &#39;3&#39; &#39;1&#39; &#39;-&#39; &#39;-&#39; &#39;-&#39;]\n [&#39;L&#39; &#39;-&#39; &#39;L&#39; &#39;L&#39; &#39;X&#39; &#39;L&#39; &#39;-&#39;]]\nAttacking lamps:\n6\nNumbers:\n(2, 1) 0\n(3, 1) 0\n(0, 2) 1\n(5, 2) 3\n(1, 3) 0\n(5, 3) 1\n(4, 5) 1\n(2, 6) 2\nMover Lampada:\nPosições validas:\n[]\n[[&#39;-&#39; &#39;-&#39; &#39;1&#39; &#39;L&#39; &#39;L&#39; &#39;-&#39; &#39;L&#39;]\n [&#39;-&#39; &#39;L&#39; &#39;-&#39; &#39;0&#39; &#39;X&#39; &#39;L&#39; &#39;-&#39;]\n [&#39;-&#39; &#39;0&#39; &#39;-&#39; &#39;L&#39; &#39;L&#39; &#39;-&#39; &#39;2&#39;]\n [&#39;L&#39; &#39;0&#39; &#39;-&#39; &#39;X&#39; &#39;-&#39; &#39;X&#39; &#39;L&#39;]\n [&#39;X&#39; &#39;-&#39; &#39;L&#39; &#39;L&#39; &#39;-&#39; &#39;1&#39; &#39;-&#39;]\n [&#39;-&#39; &#39;L&#39; &#39;3&#39; &#39;1&#39; &#39;-&#39; &#39;-&#39; &#39;-&#39;]\n [&#39;L&#39; &#39;-&#39; &#39;L&#39; &#39;L&#39; &#39;X&#39; &#39;L&#39; &#39;-&#39;]]\n"
    }
   ],
   "source": [
    "current = State(game)\n",
    "generateNextState(current)"
   ]
  },
  {
   "cell_type": "code",
   "execution_count": null,
   "metadata": {},
   "outputs": [],
   "source": [
    "while True:\n",
    "    current = State(game)\n",
    "    plato = 20\n",
    "\n",
    "    while True:\n",
    "        nextState = generateNextState(current)\n",
    "        if nextState.score == 0:\n",
    "            break\n",
    "\n",
    "        if nextState.score < current.score:\n",
    "            current = nextState\n",
    "            plato = 20\n",
    "        else\n",
    "            plato -= 1\n",
    "            if plato == 0\n",
    "                break\n",
    "\n",
    "    if nextState.score == 0:\n",
    "        current.print()\n",
    "        break\n"
   ]
  }
 ],
 "metadata": {
  "kernelspec": {
   "display_name": "Python 3",
   "language": "python",
   "name": "python3"
  },
  "language_info": {
   "codemirror_mode": {
    "name": "ipython",
    "version": 3
   },
   "file_extension": ".py",
   "mimetype": "text/x-python",
   "name": "python",
   "nbconvert_exporter": "python",
   "pygments_lexer": "ipython3",
   "version": "3.6.9-final"
  }
 },
 "nbformat": 4,
 "nbformat_minor": 4
}